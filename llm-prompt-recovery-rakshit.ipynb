{
 "cells": [
  {
   "cell_type": "code",
   "execution_count": 1,
   "id": "f19775b7",
   "metadata": {
    "_cell_guid": "b1076dfc-b9ad-4769-8c92-a6c4dae69d19",
    "_uuid": "8f2839f25d086af736a60e9eeb907d3b93b6e0e5",
    "execution": {
     "iopub.execute_input": "2024-10-28T20:15:06.420664Z",
     "iopub.status.busy": "2024-10-28T20:15:06.420141Z",
     "iopub.status.idle": "2024-10-28T20:15:07.178543Z",
     "shell.execute_reply": "2024-10-28T20:15:07.177686Z"
    },
    "papermill": {
     "duration": 0.774806,
     "end_time": "2024-10-28T20:15:07.180707",
     "exception": false,
     "start_time": "2024-10-28T20:15:06.405901",
     "status": "completed"
    },
    "tags": []
   },
   "outputs": [
    {
     "name": "stdout",
     "output_type": "stream",
     "text": [
      "/kaggle/input/llm-prompt-recovery/sample_submission.csv\n",
      "/kaggle/input/llm-prompt-recovery/train.csv\n",
      "/kaggle/input/llm-prompt-recovery/test.csv\n",
      "/kaggle/input/gemma/keras/gemma_instruct_2b_en/2/config.json\n",
      "/kaggle/input/gemma/keras/gemma_instruct_2b_en/2/tokenizer.json\n",
      "/kaggle/input/gemma/keras/gemma_instruct_2b_en/2/metadata.json\n",
      "/kaggle/input/gemma/keras/gemma_instruct_2b_en/2/model.weights.h5\n",
      "/kaggle/input/gemma/keras/gemma_instruct_2b_en/2/assets/tokenizer/vocabulary.spm\n",
      "/kaggle/input/llm-prompt-recovery-synthetic-datastore/gemma1000_w7b.csv\n",
      "/kaggle/input/3000-rewritten-texts-prompt-recovery-challenge/prompts_0_500_wiki_first_para_3000.csv\n",
      "/kaggle/input/3000-rewritten-texts-prompt-recovery-challenge/rewrite_prompts.csv\n"
     ]
    }
   ],
   "source": [
    "###### This Python 3 environment comes with many helpful analytics libraries installed\n",
    "# It is defined by the kaggle/python Docker image: https://github.com/kaggle/docker-python\n",
    "# For example, here's several helpful packages to load\n",
    "\n",
    "import numpy as np # linear algebra\n",
    "import pandas as pd # data processing, CSV file I/O (e.g. pd.read_csv)\n",
    "\n",
    "# Input data files are available in the read-only \"../input/\" directory\n",
    "# For example, running this (by clicking run or pressing Shift+Enter) will list all files under the input directory\n",
    "\n",
    "import os\n",
    "for dirname, _, filenames in os.walk('/kaggle/input'):\n",
    "    for filename in filenames:\n",
    "        print(os.path.join(dirname, filename))\n",
    "\n",
    "# You can write up to 20GB to the current directory (/kaggle/working/) that gets preserved as output when you create a version using \"Save & Run All\" \n",
    "# You can also write temporary files to /kaggle/temp/, but they won't be saved outside of the current session"
   ]
  },
  {
   "cell_type": "code",
   "execution_count": 2,
   "id": "4d7f2988",
   "metadata": {
    "execution": {
     "iopub.execute_input": "2024-10-28T20:15:07.208183Z",
     "iopub.status.busy": "2024-10-28T20:15:07.207761Z",
     "iopub.status.idle": "2024-10-28T20:15:07.238665Z",
     "shell.execute_reply": "2024-10-28T20:15:07.237968Z"
    },
    "papermill": {
     "duration": 0.045892,
     "end_time": "2024-10-28T20:15:07.240504",
     "exception": false,
     "start_time": "2024-10-28T20:15:07.194612",
     "status": "completed"
    },
    "tags": []
   },
   "outputs": [],
   "source": [
    "Train=pd.read_csv('/kaggle/input/llm-prompt-recovery/train.csv')\n",
    "test=pd.read_csv('/kaggle/input/llm-prompt-recovery/test.csv')\n",
    "sb=pd.read_csv('/kaggle/input/llm-prompt-recovery/sample_submission.csv')"
   ]
  },
  {
   "cell_type": "markdown",
   "id": "1fee36ae",
   "metadata": {
    "papermill": {
     "duration": 0.012097,
     "end_time": "2024-10-28T20:15:07.264757",
     "exception": false,
     "start_time": "2024-10-28T20:15:07.252660",
     "status": "completed"
    },
    "tags": []
   },
   "source": [
    "### Exploring Dataset"
   ]
  },
  {
   "cell_type": "code",
   "execution_count": 3,
   "id": "1e846207",
   "metadata": {
    "execution": {
     "iopub.execute_input": "2024-10-28T20:15:07.290168Z",
     "iopub.status.busy": "2024-10-28T20:15:07.289854Z",
     "iopub.status.idle": "2024-10-28T20:15:07.306163Z",
     "shell.execute_reply": "2024-10-28T20:15:07.305321Z"
    },
    "papermill": {
     "duration": 0.03117,
     "end_time": "2024-10-28T20:15:07.308045",
     "exception": false,
     "start_time": "2024-10-28T20:15:07.276875",
     "status": "completed"
    },
    "tags": []
   },
   "outputs": [
    {
     "data": {
      "text/html": [
       "<div>\n",
       "<style scoped>\n",
       "    .dataframe tbody tr th:only-of-type {\n",
       "        vertical-align: middle;\n",
       "    }\n",
       "\n",
       "    .dataframe tbody tr th {\n",
       "        vertical-align: top;\n",
       "    }\n",
       "\n",
       "    .dataframe thead th {\n",
       "        text-align: right;\n",
       "    }\n",
       "</style>\n",
       "<table border=\"1\" class=\"dataframe\">\n",
       "  <thead>\n",
       "    <tr style=\"text-align: right;\">\n",
       "      <th></th>\n",
       "      <th>id</th>\n",
       "      <th>original_text</th>\n",
       "      <th>rewrite_prompt</th>\n",
       "      <th>rewritten_text</th>\n",
       "    </tr>\n",
       "  </thead>\n",
       "  <tbody>\n",
       "    <tr>\n",
       "      <th>0</th>\n",
       "      <td>-1</td>\n",
       "      <td>The competition dataset comprises text passage...</td>\n",
       "      <td>Convert this into a sea shanty: \"\"\"The competi...</td>\n",
       "      <td>Here is your shanty: (Verse 1) The text is rew...</td>\n",
       "    </tr>\n",
       "  </tbody>\n",
       "</table>\n",
       "</div>"
      ],
      "text/plain": [
       "   id                                      original_text  \\\n",
       "0  -1  The competition dataset comprises text passage...   \n",
       "\n",
       "                                      rewrite_prompt  \\\n",
       "0  Convert this into a sea shanty: \"\"\"The competi...   \n",
       "\n",
       "                                      rewritten_text  \n",
       "0  Here is your shanty: (Verse 1) The text is rew...  "
      ]
     },
     "execution_count": 3,
     "metadata": {},
     "output_type": "execute_result"
    }
   ],
   "source": [
    "Train"
   ]
  },
  {
   "cell_type": "code",
   "execution_count": 4,
   "id": "ac53dece",
   "metadata": {
    "execution": {
     "iopub.execute_input": "2024-10-28T20:15:07.334039Z",
     "iopub.status.busy": "2024-10-28T20:15:07.333735Z",
     "iopub.status.idle": "2024-10-28T20:15:07.339123Z",
     "shell.execute_reply": "2024-10-28T20:15:07.338341Z"
    },
    "papermill": {
     "duration": 0.020668,
     "end_time": "2024-10-28T20:15:07.341047",
     "exception": false,
     "start_time": "2024-10-28T20:15:07.320379",
     "status": "completed"
    },
    "tags": []
   },
   "outputs": [
    {
     "data": {
      "text/plain": [
       "'The competition dataset comprises text passages that have been rewritten by the Gemma LLM according to some rewrite_prompt instruction. The goal of the competition is to determine what prompt was used to rewrite each original text.  Please note that this is a Code Competition. When your submission is scored, this example test data will be replaced with the full test set. Expect roughly 2,000 original texts in the test set.'"
      ]
     },
     "execution_count": 4,
     "metadata": {},
     "output_type": "execute_result"
    }
   ],
   "source": [
    "Train.original_text[0]"
   ]
  },
  {
   "cell_type": "code",
   "execution_count": 5,
   "id": "32121b0d",
   "metadata": {
    "execution": {
     "iopub.execute_input": "2024-10-28T20:15:07.367401Z",
     "iopub.status.busy": "2024-10-28T20:15:07.367089Z",
     "iopub.status.idle": "2024-10-28T20:15:07.372470Z",
     "shell.execute_reply": "2024-10-28T20:15:07.371630Z"
    },
    "papermill": {
     "duration": 0.020895,
     "end_time": "2024-10-28T20:15:07.374400",
     "exception": false,
     "start_time": "2024-10-28T20:15:07.353505",
     "status": "completed"
    },
    "tags": []
   },
   "outputs": [
    {
     "data": {
      "text/plain": [
       "'Convert this into a sea shanty: \"\"\"The competition dataset comprises text passages that have been rewritten by the Gemma LLM according to some rewrite_prompt instruction. The goal of the competition is to determine what prompt was used to rewrite each original text.  Please note that this is a Code Competition. When your submission is scored, this example test data will be replaced with the full test set. Expect roughly 2,000 original texts in the test set.\"\"\"'"
      ]
     },
     "execution_count": 5,
     "metadata": {},
     "output_type": "execute_result"
    }
   ],
   "source": [
    "Train.rewrite_prompt[0]"
   ]
  },
  {
   "cell_type": "code",
   "execution_count": 6,
   "id": "f0de2d37",
   "metadata": {
    "execution": {
     "iopub.execute_input": "2024-10-28T20:15:07.401232Z",
     "iopub.status.busy": "2024-10-28T20:15:07.400478Z",
     "iopub.status.idle": "2024-10-28T20:15:07.406216Z",
     "shell.execute_reply": "2024-10-28T20:15:07.405408Z"
    },
    "papermill": {
     "duration": 0.021013,
     "end_time": "2024-10-28T20:15:07.408067",
     "exception": false,
     "start_time": "2024-10-28T20:15:07.387054",
     "status": "completed"
    },
    "tags": []
   },
   "outputs": [
    {
     "data": {
      "text/plain": [
       "\"Here is your shanty: (Verse 1) The text is rewritten, the LLM has spun, With prompts so clever, they've been outrun. The goal is to find, the prompt so bright, To crack the code, and shine the light. (Chorus) Oh, this is a code competition, my dear, With text and prompts, we'll compete. Two thousand texts, a challenge grand, To guess the prompts, hand over hand.(Verse 2) The original text, a treasure lost, The rewrite prompt, a secret to be\""
      ]
     },
     "execution_count": 6,
     "metadata": {},
     "output_type": "execute_result"
    }
   ],
   "source": [
    "Train.rewritten_text[0]"
   ]
  },
  {
   "cell_type": "code",
   "execution_count": 7,
   "id": "f53e4056",
   "metadata": {
    "execution": {
     "iopub.execute_input": "2024-10-28T20:15:07.435279Z",
     "iopub.status.busy": "2024-10-28T20:15:07.434962Z",
     "iopub.status.idle": "2024-10-28T20:15:07.442773Z",
     "shell.execute_reply": "2024-10-28T20:15:07.441952Z"
    },
    "papermill": {
     "duration": 0.023798,
     "end_time": "2024-10-28T20:15:07.444880",
     "exception": false,
     "start_time": "2024-10-28T20:15:07.421082",
     "status": "completed"
    },
    "tags": []
   },
   "outputs": [
    {
     "data": {
      "text/html": [
       "<div>\n",
       "<style scoped>\n",
       "    .dataframe tbody tr th:only-of-type {\n",
       "        vertical-align: middle;\n",
       "    }\n",
       "\n",
       "    .dataframe tbody tr th {\n",
       "        vertical-align: top;\n",
       "    }\n",
       "\n",
       "    .dataframe thead th {\n",
       "        text-align: right;\n",
       "    }\n",
       "</style>\n",
       "<table border=\"1\" class=\"dataframe\">\n",
       "  <thead>\n",
       "    <tr style=\"text-align: right;\">\n",
       "      <th></th>\n",
       "      <th>id</th>\n",
       "      <th>original_text</th>\n",
       "      <th>rewritten_text</th>\n",
       "    </tr>\n",
       "  </thead>\n",
       "  <tbody>\n",
       "    <tr>\n",
       "      <th>0</th>\n",
       "      <td>-1</td>\n",
       "      <td>The competition dataset comprises text passage...</td>\n",
       "      <td>Here is your shanty: (Verse 1) The text is rew...</td>\n",
       "    </tr>\n",
       "  </tbody>\n",
       "</table>\n",
       "</div>"
      ],
      "text/plain": [
       "   id                                      original_text  \\\n",
       "0  -1  The competition dataset comprises text passage...   \n",
       "\n",
       "                                      rewritten_text  \n",
       "0  Here is your shanty: (Verse 1) The text is rew...  "
      ]
     },
     "execution_count": 7,
     "metadata": {},
     "output_type": "execute_result"
    }
   ],
   "source": [
    "test"
   ]
  },
  {
   "cell_type": "code",
   "execution_count": 8,
   "id": "ccb565d8",
   "metadata": {
    "execution": {
     "iopub.execute_input": "2024-10-28T20:15:07.472089Z",
     "iopub.status.busy": "2024-10-28T20:15:07.471808Z",
     "iopub.status.idle": "2024-10-28T20:15:07.479519Z",
     "shell.execute_reply": "2024-10-28T20:15:07.478690Z"
    },
    "papermill": {
     "duration": 0.023396,
     "end_time": "2024-10-28T20:15:07.481375",
     "exception": false,
     "start_time": "2024-10-28T20:15:07.457979",
     "status": "completed"
    },
    "tags": []
   },
   "outputs": [
    {
     "data": {
      "text/html": [
       "<div>\n",
       "<style scoped>\n",
       "    .dataframe tbody tr th:only-of-type {\n",
       "        vertical-align: middle;\n",
       "    }\n",
       "\n",
       "    .dataframe tbody tr th {\n",
       "        vertical-align: top;\n",
       "    }\n",
       "\n",
       "    .dataframe thead th {\n",
       "        text-align: right;\n",
       "    }\n",
       "</style>\n",
       "<table border=\"1\" class=\"dataframe\">\n",
       "  <thead>\n",
       "    <tr style=\"text-align: right;\">\n",
       "      <th></th>\n",
       "      <th>id</th>\n",
       "      <th>rewrite_prompt</th>\n",
       "    </tr>\n",
       "  </thead>\n",
       "  <tbody>\n",
       "    <tr>\n",
       "      <th>0</th>\n",
       "      <td>9559194</td>\n",
       "      <td>Improve that text.</td>\n",
       "    </tr>\n",
       "  </tbody>\n",
       "</table>\n",
       "</div>"
      ],
      "text/plain": [
       "        id      rewrite_prompt\n",
       "0  9559194  Improve that text."
      ]
     },
     "execution_count": 8,
     "metadata": {},
     "output_type": "execute_result"
    }
   ],
   "source": [
    "sb"
   ]
  },
  {
   "cell_type": "code",
   "execution_count": 9,
   "id": "deb0805a",
   "metadata": {
    "execution": {
     "iopub.execute_input": "2024-10-28T20:15:07.508998Z",
     "iopub.status.busy": "2024-10-28T20:15:07.508718Z",
     "iopub.status.idle": "2024-10-28T20:15:20.878171Z",
     "shell.execute_reply": "2024-10-28T20:15:20.877336Z"
    },
    "papermill": {
     "duration": 13.385987,
     "end_time": "2024-10-28T20:15:20.880444",
     "exception": false,
     "start_time": "2024-10-28T20:15:07.494457",
     "status": "completed"
    },
    "tags": []
   },
   "outputs": [],
   "source": [
    "import os\n",
    "os.environ[\"KERAS_BACKEND\"] = \"jax\" # you can also use tensorflow or torch\n",
    "os.environ[\"XLA_PYTHON_CLIENT_MEM_FRACTION\"] = \"1.00\" # avoid memory fragmentation on JAX backend.\n",
    "\n",
    "import keras\n",
    "import keras_nlp\n",
    "\n",
    "import numpy as np\n",
    "import pandas as pd\n",
    "from tqdm.notebook import tqdm\n",
    "tqdm.pandas() # progress bar for pandas\n",
    "\n",
    "import plotly.graph_objs as go\n",
    "import plotly.express as px\n",
    "from IPython.display import display, Markdown"
   ]
  },
  {
   "cell_type": "code",
   "execution_count": 10,
   "id": "6bf4dfe8",
   "metadata": {
    "execution": {
     "iopub.execute_input": "2024-10-28T20:15:20.908692Z",
     "iopub.status.busy": "2024-10-28T20:15:20.908112Z",
     "iopub.status.idle": "2024-10-28T20:15:20.912988Z",
     "shell.execute_reply": "2024-10-28T20:15:20.912262Z"
    },
    "papermill": {
     "duration": 0.020904,
     "end_time": "2024-10-28T20:15:20.914915",
     "exception": false,
     "start_time": "2024-10-28T20:15:20.894011",
     "status": "completed"
    },
    "tags": []
   },
   "outputs": [],
   "source": [
    "class CFG:\n",
    "    seed = 42\n",
    "    dataset_path = \"/kaggle/input/llm-prompt-recovery\"\n",
    "    preset = \"gemma_instruct_2b_en\" # name of pretrained Gemma\n",
    "    sequence_length = 512 # max size of input sequence for training\n",
    "    batch_size = 1 # size of the input batch in training\n",
    "    epochs = 1 # number of epochs to train"
   ]
  },
  {
   "cell_type": "code",
   "execution_count": 11,
   "id": "4ce87a36",
   "metadata": {
    "execution": {
     "iopub.execute_input": "2024-10-28T20:15:20.943090Z",
     "iopub.status.busy": "2024-10-28T20:15:20.942803Z",
     "iopub.status.idle": "2024-10-28T20:15:20.947027Z",
     "shell.execute_reply": "2024-10-28T20:15:20.946199Z"
    },
    "papermill": {
     "duration": 0.020914,
     "end_time": "2024-10-28T20:15:20.948863",
     "exception": false,
     "start_time": "2024-10-28T20:15:20.927949",
     "status": "completed"
    },
    "tags": []
   },
   "outputs": [],
   "source": [
    "keras.utils.set_random_seed(CFG.seed)"
   ]
  },
  {
   "cell_type": "code",
   "execution_count": 12,
   "id": "c7a75356",
   "metadata": {
    "execution": {
     "iopub.execute_input": "2024-10-28T20:15:20.976332Z",
     "iopub.status.busy": "2024-10-28T20:15:20.976044Z",
     "iopub.status.idle": "2024-10-28T20:15:21.201581Z",
     "shell.execute_reply": "2024-10-28T20:15:21.200650Z"
    },
    "papermill": {
     "duration": 0.241689,
     "end_time": "2024-10-28T20:15:21.203748",
     "exception": false,
     "start_time": "2024-10-28T20:15:20.962059",
     "status": "completed"
    },
    "tags": []
   },
   "outputs": [
    {
     "data": {
      "text/html": [
       "<div>\n",
       "<style scoped>\n",
       "    .dataframe tbody tr th:only-of-type {\n",
       "        vertical-align: middle;\n",
       "    }\n",
       "\n",
       "    .dataframe tbody tr th {\n",
       "        vertical-align: top;\n",
       "    }\n",
       "\n",
       "    .dataframe thead th {\n",
       "        text-align: right;\n",
       "    }\n",
       "</style>\n",
       "<table border=\"1\" class=\"dataframe\">\n",
       "  <thead>\n",
       "    <tr style=\"text-align: right;\">\n",
       "      <th></th>\n",
       "      <th>original_text</th>\n",
       "      <th>rewrite_prompt</th>\n",
       "      <th>rewritten_text</th>\n",
       "    </tr>\n",
       "  </thead>\n",
       "  <tbody>\n",
       "    <tr>\n",
       "      <th>0</th>\n",
       "      <td>Story highlights New findings suggest sperm al...</td>\n",
       "      <td>Turn this into a programmer's code.</td>\n",
       "      <td>```python\\n# Code to summarize the text\\n\\nspe...</td>\n",
       "    </tr>\n",
       "    <tr>\n",
       "      <th>1</th>\n",
       "      <td>Glasgow's Needy is a non-registered charity or...</td>\n",
       "      <td>Make this a formal apology letter to a customer.</td>\n",
       "      <td>[Your Name]\\n[Your Address]\\nGlasgow, Scotland...</td>\n",
       "    </tr>\n",
       "    <tr>\n",
       "      <th>2</th>\n",
       "      <td>Pune: In a bizarre case, a parrot accused of \"...</td>\n",
       "      <td>Convert this into a technique to be used.</td>\n",
       "      <td>**Technique:**\\n\\n**Step 1: Gather evidence.**...</td>\n",
       "    </tr>\n",
       "    <tr>\n",
       "      <th>3</th>\n",
       "      <td>Berrya is a genus of evergreen trees with fibr...</td>\n",
       "      <td>Convert the text into the layout of a classic ...</td>\n",
       "      <td>## Level Layout: Berrya Forest\\n\\n**Background...</td>\n",
       "    </tr>\n",
       "    <tr>\n",
       "      <th>4</th>\n",
       "      <td>The Libertarian Party of Oregon is a political...</td>\n",
       "      <td>Recast it as the backstory for a mysterious an...</td>\n",
       "      <td>In the shadows of the Evergreen State of Orego...</td>\n",
       "    </tr>\n",
       "  </tbody>\n",
       "</table>\n",
       "</div>"
      ],
      "text/plain": [
       "                                       original_text  \\\n",
       "0  Story highlights New findings suggest sperm al...   \n",
       "1  Glasgow's Needy is a non-registered charity or...   \n",
       "2  Pune: In a bizarre case, a parrot accused of \"...   \n",
       "3  Berrya is a genus of evergreen trees with fibr...   \n",
       "4  The Libertarian Party of Oregon is a political...   \n",
       "\n",
       "                                      rewrite_prompt  \\\n",
       "0                Turn this into a programmer's code.   \n",
       "1   Make this a formal apology letter to a customer.   \n",
       "2          Convert this into a technique to be used.   \n",
       "3  Convert the text into the layout of a classic ...   \n",
       "4  Recast it as the backstory for a mysterious an...   \n",
       "\n",
       "                                      rewritten_text  \n",
       "0  ```python\\n# Code to summarize the text\\n\\nspe...  \n",
       "1  [Your Name]\\n[Your Address]\\nGlasgow, Scotland...  \n",
       "2  **Technique:**\\n\\n**Step 1: Gather evidence.**...  \n",
       "3  ## Level Layout: Berrya Forest\\n\\n**Background...  \n",
       "4  In the shadows of the Evergreen State of Orego...  "
      ]
     },
     "execution_count": 12,
     "metadata": {},
     "output_type": "execute_result"
    }
   ],
   "source": [
    "# `LLM Prompt Recovery - Synthetic Datastore dataset` by @dschettler8845\n",
    "df1 = pd.read_csv(\"/kaggle/input/llm-prompt-recovery-synthetic-datastore/gemma1000_w7b.csv\")\n",
    "df1 = df1[[\"original_text\", \"rewrite_prompt\", \"gemma_7b_rewritten_text_temp0\"]]\n",
    "df1 = df1.rename(columns={\"gemma_7b_rewritten_text_temp0\":\"rewritten_text\"})\n",
    "df1.head(2)\n",
    "\n",
    "# `3000 Rewritten texts - Prompt recovery Challenge` by @dipamc77\n",
    "df2 = pd.read_csv(\"/kaggle/input/3000-rewritten-texts-prompt-recovery-challenge/prompts_0_500_wiki_first_para_3000.csv\")\n",
    "df2.head(2)\n",
    "\n",
    "# Merge all datasets\n",
    "df = pd.concat([df1, df2], axis=0)\n",
    "df = df.sample(2000).reset_index(drop=True) # to reduce training time we are only using 2k samples\n",
    "df.head(5)"
   ]
  },
  {
   "cell_type": "code",
   "execution_count": 13,
   "id": "f2052547",
   "metadata": {
    "execution": {
     "iopub.execute_input": "2024-10-28T20:15:21.232690Z",
     "iopub.status.busy": "2024-10-28T20:15:21.232033Z",
     "iopub.status.idle": "2024-10-28T20:15:21.237590Z",
     "shell.execute_reply": "2024-10-28T20:15:21.236728Z"
    },
    "papermill": {
     "duration": 0.021668,
     "end_time": "2024-10-28T20:15:21.239490",
     "exception": false,
     "start_time": "2024-10-28T20:15:21.217822",
     "status": "completed"
    },
    "tags": []
   },
   "outputs": [
    {
     "data": {
      "text/plain": [
       "(2000, 3)"
      ]
     },
     "execution_count": 13,
     "metadata": {},
     "output_type": "execute_result"
    }
   ],
   "source": [
    "df.shape"
   ]
  },
  {
   "cell_type": "code",
   "execution_count": 14,
   "id": "c95965d7",
   "metadata": {
    "execution": {
     "iopub.execute_input": "2024-10-28T20:15:21.267475Z",
     "iopub.status.busy": "2024-10-28T20:15:21.267172Z",
     "iopub.status.idle": "2024-10-28T20:15:21.271550Z",
     "shell.execute_reply": "2024-10-28T20:15:21.270704Z"
    },
    "papermill": {
     "duration": 0.020596,
     "end_time": "2024-10-28T20:15:21.273477",
     "exception": false,
     "start_time": "2024-10-28T20:15:21.252881",
     "status": "completed"
    },
    "tags": []
   },
   "outputs": [],
   "source": [
    "template=\"\"\"Instruction:\\n Below are the 'Original Text' that have been re-written/changed/improve to 'rewritten text' by using different prompts using 'Gemma 7b-it' so your task is carefully read the pattern between 'Orignal text' and 'rewritten text' and identify the prompts that was likely used to convert Original text to these rewritten/improved texts.\\n\\nOriginal Text: \\n{original_text}\\n\\nRewritten Text : \\n{rewritten_text}\\n\\nResponse:\\n{rewrite_prompt}\"\"\"\n"
   ]
  },
  {
   "cell_type": "code",
   "execution_count": 15,
   "id": "fd72ba55",
   "metadata": {
    "execution": {
     "iopub.execute_input": "2024-10-28T20:15:21.301266Z",
     "iopub.status.busy": "2024-10-28T20:15:21.300935Z",
     "iopub.status.idle": "2024-10-28T20:15:21.304959Z",
     "shell.execute_reply": "2024-10-28T20:15:21.304203Z"
    },
    "papermill": {
     "duration": 0.020064,
     "end_time": "2024-10-28T20:15:21.306934",
     "exception": false,
     "start_time": "2024-10-28T20:15:21.286870",
     "status": "completed"
    },
    "tags": []
   },
   "outputs": [],
   "source": [
    "template = \"\"\"Instruction:\\nBelow, the `Original Text` passage has been rewritten/transformed/improved into `Rewritten Text` by the `Gemma 7b-it` LLM with a certain prompt/instruction. Your task is to carefully analyze the differences between the `Original Text` and `Rewritten Text`, and try to infer the specific prompt or instruction that was likely given to the LLM to rewrite/transform/improve the text in this way.\\n\\nOriginal Text:\\n{original_text}\\n\\nRewriten Text:\\n{rewritten_text}\\n\\nResponse:\\n{rewrite_prompt}\"\"\""
   ]
  },
  {
   "cell_type": "code",
   "execution_count": 16,
   "id": "2fcedaa3",
   "metadata": {
    "execution": {
     "iopub.execute_input": "2024-10-28T20:15:21.335016Z",
     "iopub.status.busy": "2024-10-28T20:15:21.334717Z",
     "iopub.status.idle": "2024-10-28T20:15:21.345338Z",
     "shell.execute_reply": "2024-10-28T20:15:21.344405Z"
    },
    "papermill": {
     "duration": 0.02673,
     "end_time": "2024-10-28T20:15:21.347259",
     "exception": false,
     "start_time": "2024-10-28T20:15:21.320529",
     "status": "completed"
    },
    "tags": []
   },
   "outputs": [
    {
     "data": {
      "text/html": [
       "<div>\n",
       "<style scoped>\n",
       "    .dataframe tbody tr th:only-of-type {\n",
       "        vertical-align: middle;\n",
       "    }\n",
       "\n",
       "    .dataframe tbody tr th {\n",
       "        vertical-align: top;\n",
       "    }\n",
       "\n",
       "    .dataframe thead th {\n",
       "        text-align: right;\n",
       "    }\n",
       "</style>\n",
       "<table border=\"1\" class=\"dataframe\">\n",
       "  <thead>\n",
       "    <tr style=\"text-align: right;\">\n",
       "      <th></th>\n",
       "      <th>original_text</th>\n",
       "      <th>rewrite_prompt</th>\n",
       "      <th>rewritten_text</th>\n",
       "    </tr>\n",
       "  </thead>\n",
       "  <tbody>\n",
       "    <tr>\n",
       "      <th>0</th>\n",
       "      <td>Story highlights New findings suggest sperm al...</td>\n",
       "      <td>Turn this into a programmer's code.</td>\n",
       "      <td>```python\\n# Code to summarize the text\\n\\nspe...</td>\n",
       "    </tr>\n",
       "    <tr>\n",
       "      <th>1</th>\n",
       "      <td>Glasgow's Needy is a non-registered charity or...</td>\n",
       "      <td>Make this a formal apology letter to a customer.</td>\n",
       "      <td>[Your Name]\\n[Your Address]\\nGlasgow, Scotland...</td>\n",
       "    </tr>\n",
       "    <tr>\n",
       "      <th>2</th>\n",
       "      <td>Pune: In a bizarre case, a parrot accused of \"...</td>\n",
       "      <td>Convert this into a technique to be used.</td>\n",
       "      <td>**Technique:**\\n\\n**Step 1: Gather evidence.**...</td>\n",
       "    </tr>\n",
       "    <tr>\n",
       "      <th>3</th>\n",
       "      <td>Berrya is a genus of evergreen trees with fibr...</td>\n",
       "      <td>Convert the text into the layout of a classic ...</td>\n",
       "      <td>## Level Layout: Berrya Forest\\n\\n**Background...</td>\n",
       "    </tr>\n",
       "    <tr>\n",
       "      <th>4</th>\n",
       "      <td>The Libertarian Party of Oregon is a political...</td>\n",
       "      <td>Recast it as the backstory for a mysterious an...</td>\n",
       "      <td>In the shadows of the Evergreen State of Orego...</td>\n",
       "    </tr>\n",
       "    <tr>\n",
       "      <th>...</th>\n",
       "      <td>...</td>\n",
       "      <td>...</td>\n",
       "      <td>...</td>\n",
       "    </tr>\n",
       "    <tr>\n",
       "      <th>1995</th>\n",
       "      <td>Coding Contest Byte: The Square Root Trick Cos...</td>\n",
       "      <td>Frame this as a gardener's journal.</td>\n",
       "      <td>## The Square Root Trick - A Gardener's Journa...</td>\n",
       "    </tr>\n",
       "    <tr>\n",
       "      <th>1996</th>\n",
       "      <td>Political types aren't the only ones descendin...</td>\n",
       "      <td>Rewrite this as a seminar to be hosted.</td>\n",
       "      <td>**Seminar Title:** Unlocking Economic Growth T...</td>\n",
       "    </tr>\n",
       "    <tr>\n",
       "      <th>1997</th>\n",
       "      <td>Venom is the fifth studio album by Welsh heavy...</td>\n",
       "      <td>Change it into an old-school hip-hop song.</td>\n",
       "      <td>(Verse 1)\\nYo, listen up cause I'm about to dr...</td>\n",
       "    </tr>\n",
       "    <tr>\n",
       "      <th>1998</th>\n",
       "      <td>Sofia the First is an American computer-animat...</td>\n",
       "      <td>Rewrite it as a classic noir film voice-over.</td>\n",
       "      <td>(The voice dripping like a wet cigarette smoke...</td>\n",
       "    </tr>\n",
       "    <tr>\n",
       "      <th>1999</th>\n",
       "      <td>Danny Ray Welch is an American Cancer Biologis...</td>\n",
       "      <td>Transform this into a letter of recommendation...</td>\n",
       "      <td>[Your Name]\\n[Your Title]\\n[Your Organization]...</td>\n",
       "    </tr>\n",
       "  </tbody>\n",
       "</table>\n",
       "<p>2000 rows × 3 columns</p>\n",
       "</div>"
      ],
      "text/plain": [
       "                                          original_text  \\\n",
       "0     Story highlights New findings suggest sperm al...   \n",
       "1     Glasgow's Needy is a non-registered charity or...   \n",
       "2     Pune: In a bizarre case, a parrot accused of \"...   \n",
       "3     Berrya is a genus of evergreen trees with fibr...   \n",
       "4     The Libertarian Party of Oregon is a political...   \n",
       "...                                                 ...   \n",
       "1995  Coding Contest Byte: The Square Root Trick Cos...   \n",
       "1996  Political types aren't the only ones descendin...   \n",
       "1997  Venom is the fifth studio album by Welsh heavy...   \n",
       "1998  Sofia the First is an American computer-animat...   \n",
       "1999  Danny Ray Welch is an American Cancer Biologis...   \n",
       "\n",
       "                                         rewrite_prompt  \\\n",
       "0                   Turn this into a programmer's code.   \n",
       "1      Make this a formal apology letter to a customer.   \n",
       "2             Convert this into a technique to be used.   \n",
       "3     Convert the text into the layout of a classic ...   \n",
       "4     Recast it as the backstory for a mysterious an...   \n",
       "...                                                 ...   \n",
       "1995                Frame this as a gardener's journal.   \n",
       "1996            Rewrite this as a seminar to be hosted.   \n",
       "1997         Change it into an old-school hip-hop song.   \n",
       "1998      Rewrite it as a classic noir film voice-over.   \n",
       "1999  Transform this into a letter of recommendation...   \n",
       "\n",
       "                                         rewritten_text  \n",
       "0     ```python\\n# Code to summarize the text\\n\\nspe...  \n",
       "1     [Your Name]\\n[Your Address]\\nGlasgow, Scotland...  \n",
       "2     **Technique:**\\n\\n**Step 1: Gather evidence.**...  \n",
       "3     ## Level Layout: Berrya Forest\\n\\n**Background...  \n",
       "4     In the shadows of the Evergreen State of Orego...  \n",
       "...                                                 ...  \n",
       "1995  ## The Square Root Trick - A Gardener's Journa...  \n",
       "1996  **Seminar Title:** Unlocking Economic Growth T...  \n",
       "1997  (Verse 1)\\nYo, listen up cause I'm about to dr...  \n",
       "1998  (The voice dripping like a wet cigarette smoke...  \n",
       "1999  [Your Name]\\n[Your Title]\\n[Your Organization]...  \n",
       "\n",
       "[2000 rows x 3 columns]"
      ]
     },
     "execution_count": 16,
     "metadata": {},
     "output_type": "execute_result"
    }
   ],
   "source": [
    "df"
   ]
  },
  {
   "cell_type": "code",
   "execution_count": 17,
   "id": "c4580582",
   "metadata": {
    "execution": {
     "iopub.execute_input": "2024-10-28T20:15:21.375981Z",
     "iopub.status.busy": "2024-10-28T20:15:21.375703Z",
     "iopub.status.idle": "2024-10-28T20:15:21.477078Z",
     "shell.execute_reply": "2024-10-28T20:15:21.476291Z"
    },
    "papermill": {
     "duration": 0.118539,
     "end_time": "2024-10-28T20:15:21.479559",
     "exception": false,
     "start_time": "2024-10-28T20:15:21.361020",
     "status": "completed"
    },
    "tags": []
   },
   "outputs": [
    {
     "data": {
      "application/vnd.jupyter.widget-view+json": {
       "model_id": "0468243ca87341ada6473f110333400f",
       "version_major": 2,
       "version_minor": 0
      },
      "text/plain": [
       "  0%|          | 0/2000 [00:00<?, ?it/s]"
      ]
     },
     "metadata": {},
     "output_type": "display_data"
    }
   ],
   "source": [
    "df['prompt']=df.progress_apply(lambda row: template.format(original_text=row.original_text,rewritten_text=row.rewritten_text,rewrite_prompt=row.rewrite_prompt),axis=1)\n",
    "                        "
   ]
  },
  {
   "cell_type": "code",
   "execution_count": 18,
   "id": "85d5ad41",
   "metadata": {
    "execution": {
     "iopub.execute_input": "2024-10-28T20:15:21.508549Z",
     "iopub.status.busy": "2024-10-28T20:15:21.508269Z",
     "iopub.status.idle": "2024-10-28T20:15:21.515107Z",
     "shell.execute_reply": "2024-10-28T20:15:21.514185Z"
    },
    "papermill": {
     "duration": 0.023615,
     "end_time": "2024-10-28T20:15:21.517059",
     "exception": false,
     "start_time": "2024-10-28T20:15:21.493444",
     "status": "completed"
    },
    "tags": []
   },
   "outputs": [
    {
     "data": {
      "text/plain": [
       "0       Instruction:\\nBelow, the `Original Text` passa...\n",
       "1       Instruction:\\nBelow, the `Original Text` passa...\n",
       "2       Instruction:\\nBelow, the `Original Text` passa...\n",
       "3       Instruction:\\nBelow, the `Original Text` passa...\n",
       "4       Instruction:\\nBelow, the `Original Text` passa...\n",
       "                              ...                        \n",
       "1995    Instruction:\\nBelow, the `Original Text` passa...\n",
       "1996    Instruction:\\nBelow, the `Original Text` passa...\n",
       "1997    Instruction:\\nBelow, the `Original Text` passa...\n",
       "1998    Instruction:\\nBelow, the `Original Text` passa...\n",
       "1999    Instruction:\\nBelow, the `Original Text` passa...\n",
       "Name: prompt, Length: 2000, dtype: object"
      ]
     },
     "execution_count": 18,
     "metadata": {},
     "output_type": "execute_result"
    }
   ],
   "source": [
    "df.prompt"
   ]
  },
  {
   "cell_type": "code",
   "execution_count": 19,
   "id": "94b3c7f2",
   "metadata": {
    "execution": {
     "iopub.execute_input": "2024-10-28T20:15:21.546124Z",
     "iopub.status.busy": "2024-10-28T20:15:21.545839Z",
     "iopub.status.idle": "2024-10-28T20:15:21.550469Z",
     "shell.execute_reply": "2024-10-28T20:15:21.549754Z"
    },
    "papermill": {
     "duration": 0.021165,
     "end_time": "2024-10-28T20:15:21.552269",
     "exception": false,
     "start_time": "2024-10-28T20:15:21.531104",
     "status": "completed"
    },
    "tags": []
   },
   "outputs": [],
   "source": [
    "def colorize_text(text):\n",
    "    for word,color in zip(['Instruction','Original Text','Rewritten Text','Response'],\n",
    "                         ['Red','Yellow','orange','Green']):\n",
    "        text = text.replace(f\"{word}:\", f\"\\n\\n**<font color='{color}'>{word}:</font>**\")\n",
    "    return text    "
   ]
  },
  {
   "cell_type": "code",
   "execution_count": 20,
   "id": "97fe9f6e",
   "metadata": {
    "execution": {
     "iopub.execute_input": "2024-10-28T20:15:21.581260Z",
     "iopub.status.busy": "2024-10-28T20:15:21.580952Z",
     "iopub.status.idle": "2024-10-28T20:15:21.584795Z",
     "shell.execute_reply": "2024-10-28T20:15:21.583979Z"
    },
    "papermill": {
     "duration": 0.020455,
     "end_time": "2024-10-28T20:15:21.586758",
     "exception": false,
     "start_time": "2024-10-28T20:15:21.566303",
     "status": "completed"
    },
    "tags": []
   },
   "outputs": [],
   "source": [
    "data=df.prompt.to_list()"
   ]
  },
  {
   "cell_type": "code",
   "execution_count": 21,
   "id": "2b74322b",
   "metadata": {
    "execution": {
     "iopub.execute_input": "2024-10-28T20:15:21.615550Z",
     "iopub.status.busy": "2024-10-28T20:15:21.615274Z",
     "iopub.status.idle": "2024-10-28T20:15:21.618894Z",
     "shell.execute_reply": "2024-10-28T20:15:21.618126Z"
    },
    "papermill": {
     "duration": 0.020111,
     "end_time": "2024-10-28T20:15:21.620752",
     "exception": false,
     "start_time": "2024-10-28T20:15:21.600641",
     "status": "completed"
    },
    "tags": []
   },
   "outputs": [],
   "source": [
    "sample=data[10]"
   ]
  },
  {
   "cell_type": "code",
   "execution_count": 22,
   "id": "90ab3ae5",
   "metadata": {
    "execution": {
     "iopub.execute_input": "2024-10-28T20:15:21.650079Z",
     "iopub.status.busy": "2024-10-28T20:15:21.649797Z",
     "iopub.status.idle": "2024-10-28T20:15:21.653586Z",
     "shell.execute_reply": "2024-10-28T20:15:21.652775Z"
    },
    "papermill": {
     "duration": 0.0209,
     "end_time": "2024-10-28T20:15:21.655583",
     "exception": false,
     "start_time": "2024-10-28T20:15:21.634683",
     "status": "completed"
    },
    "tags": []
   },
   "outputs": [],
   "source": [
    "change=colorize_text(sample)"
   ]
  },
  {
   "cell_type": "code",
   "execution_count": 23,
   "id": "7c6c8e37",
   "metadata": {
    "execution": {
     "iopub.execute_input": "2024-10-28T20:15:21.684434Z",
     "iopub.status.busy": "2024-10-28T20:15:21.684124Z",
     "iopub.status.idle": "2024-10-28T20:15:21.689861Z",
     "shell.execute_reply": "2024-10-28T20:15:21.689010Z"
    },
    "papermill": {
     "duration": 0.022167,
     "end_time": "2024-10-28T20:15:21.691668",
     "exception": false,
     "start_time": "2024-10-28T20:15:21.669501",
     "status": "completed"
    },
    "tags": []
   },
   "outputs": [
    {
     "data": {
      "text/markdown": [
       "\n",
       "\n",
       "**<font color='Red'>Instruction:</font>**\n",
       "Below, the `Original Text` passage has been rewritten/transformed/improved into `Rewritten Text` by the `Gemma 7b-it` LLM with a certain prompt/instruction. Your task is to carefully analyze the differences between the `Original Text` and `Rewritten Text`, and try to infer the specific prompt or instruction that was likely given to the LLM to rewrite/transform/improve the text in this way.\n",
       "\n",
       "\n",
       "\n",
       "**<font color='Yellow'>Original Text:</font>**\n",
       "Zoltán Tóth (born 24 August 1979) is a Hungarian former competitive figure skater. He is a five-time Hungarian national champion and competed in two Winter Olympics.\n",
       "\n",
       "Rewriten Text:\n",
       "Sure, here's the rewritten text as if it were a list of ingredients in a magical potion:\n",
       "\n",
       "The ingredients to create the potion:\n",
       "\n",
       "Zoltán Tóth's birth date: 24 August 1979\n",
       "Hungarian heritage\n",
       "Five-time Hungarian national champion\n",
       "Two Winter Olympics participation\n",
       "\n",
       "\n",
       "\n",
       "**<font color='Green'>Response:</font>**\n",
       "Rewrite the text as if it were a list of ingredients in a magical potion."
      ],
      "text/plain": [
       "<IPython.core.display.Markdown object>"
      ]
     },
     "metadata": {},
     "output_type": "display_data"
    }
   ],
   "source": [
    "display(Markdown(change))"
   ]
  },
  {
   "cell_type": "code",
   "execution_count": 24,
   "id": "32d62828",
   "metadata": {
    "execution": {
     "iopub.execute_input": "2024-10-28T20:15:21.721074Z",
     "iopub.status.busy": "2024-10-28T20:15:21.720807Z",
     "iopub.status.idle": "2024-10-28T20:15:57.668516Z",
     "shell.execute_reply": "2024-10-28T20:15:57.667469Z"
    },
    "papermill": {
     "duration": 35.964949,
     "end_time": "2024-10-28T20:15:57.670836",
     "exception": false,
     "start_time": "2024-10-28T20:15:21.705887",
     "status": "completed"
    },
    "tags": []
   },
   "outputs": [
    {
     "name": "stderr",
     "output_type": "stream",
     "text": [
      "normalizer.cc(51) LOG(INFO) precompiled_charsmap is empty. use identity normalization.\n"
     ]
    },
    {
     "data": {
      "text/plain": [
       "<GemmaCausalLM name=gemma_causal_lm, built=True>"
      ]
     },
     "execution_count": 24,
     "metadata": {},
     "output_type": "execute_result"
    }
   ],
   "source": [
    "gemma_lm = keras_nlp.models.GemmaCausalLM.from_preset(\"gemma_instruct_2b_en\")\n",
    "#gemma_lm = keras_nlp.models.GemmaCausalLM.from_preset(\"gemma_instruct_2b_en\")\n",
    "gemma_lm"
   ]
  },
  {
   "cell_type": "code",
   "execution_count": 25,
   "id": "aa2ac66b",
   "metadata": {
    "execution": {
     "iopub.execute_input": "2024-10-28T20:15:57.703563Z",
     "iopub.status.busy": "2024-10-28T20:15:57.703213Z",
     "iopub.status.idle": "2024-10-28T20:15:57.735462Z",
     "shell.execute_reply": "2024-10-28T20:15:57.734445Z"
    },
    "papermill": {
     "duration": 0.051526,
     "end_time": "2024-10-28T20:15:57.737747",
     "exception": false,
     "start_time": "2024-10-28T20:15:57.686221",
     "status": "completed"
    },
    "tags": []
   },
   "outputs": [
    {
     "data": {
      "text/html": [
       "<pre style=\"white-space:pre;overflow-x:auto;line-height:normal;font-family:Menlo,'DejaVu Sans Mono',consolas,'Courier New',monospace\"><span style=\"font-weight: bold\">Preprocessor: \"gemma_causal_lm_preprocessor\"</span>\n",
       "</pre>\n"
      ],
      "text/plain": [
       "\u001b[1mPreprocessor: \"gemma_causal_lm_preprocessor\"\u001b[0m\n"
      ]
     },
     "metadata": {},
     "output_type": "display_data"
    },
    {
     "data": {
      "text/html": [
       "<pre style=\"white-space:pre;overflow-x:auto;line-height:normal;font-family:Menlo,'DejaVu Sans Mono',consolas,'Courier New',monospace\">┏━━━━━━━━━━━━━━━━━━━━━━━━━━━━━━━━━━━━━━━━━━━━━━━━━━━━━━━━━━━━━━━┳━━━━━━━━━━━━━━━━━━━━━━━━━━━━━━━━━━━━━━━━━━┓\n",
       "┃<span style=\"font-weight: bold\"> Layer (type)                                                  </span>┃<span style=\"font-weight: bold\">                                   Config </span>┃\n",
       "┡━━━━━━━━━━━━━━━━━━━━━━━━━━━━━━━━━━━━━━━━━━━━━━━━━━━━━━━━━━━━━━━╇━━━━━━━━━━━━━━━━━━━━━━━━━━━━━━━━━━━━━━━━━━┩\n",
       "│ gemma_tokenizer (<span style=\"color: #0087ff; text-decoration-color: #0087ff\">GemmaTokenizer</span>)                              │                      Vocab size: <span style=\"color: #00af00; text-decoration-color: #00af00\">256,000</span> │\n",
       "└───────────────────────────────────────────────────────────────┴──────────────────────────────────────────┘\n",
       "</pre>\n"
      ],
      "text/plain": [
       "┏━━━━━━━━━━━━━━━━━━━━━━━━━━━━━━━━━━━━━━━━━━━━━━━━━━━━━━━━━━━━━━━┳━━━━━━━━━━━━━━━━━━━━━━━━━━━━━━━━━━━━━━━━━━┓\n",
       "┃\u001b[1m \u001b[0m\u001b[1mLayer (type)                                                 \u001b[0m\u001b[1m \u001b[0m┃\u001b[1m \u001b[0m\u001b[1m                                  Config\u001b[0m\u001b[1m \u001b[0m┃\n",
       "┡━━━━━━━━━━━━━━━━━━━━━━━━━━━━━━━━━━━━━━━━━━━━━━━━━━━━━━━━━━━━━━━╇━━━━━━━━━━━━━━━━━━━━━━━━━━━━━━━━━━━━━━━━━━┩\n",
       "│ gemma_tokenizer (\u001b[38;5;33mGemmaTokenizer\u001b[0m)                              │                      Vocab size: \u001b[38;5;34m256,000\u001b[0m │\n",
       "└───────────────────────────────────────────────────────────────┴──────────────────────────────────────────┘\n"
      ]
     },
     "metadata": {},
     "output_type": "display_data"
    },
    {
     "data": {
      "text/html": [
       "<pre style=\"white-space:pre;overflow-x:auto;line-height:normal;font-family:Menlo,'DejaVu Sans Mono',consolas,'Courier New',monospace\"><span style=\"font-weight: bold\">Model: \"gemma_causal_lm\"</span>\n",
       "</pre>\n"
      ],
      "text/plain": [
       "\u001b[1mModel: \"gemma_causal_lm\"\u001b[0m\n"
      ]
     },
     "metadata": {},
     "output_type": "display_data"
    },
    {
     "data": {
      "text/html": [
       "<pre style=\"white-space:pre;overflow-x:auto;line-height:normal;font-family:Menlo,'DejaVu Sans Mono',consolas,'Courier New',monospace\">┏━━━━━━━━━━━━━━━━━━━━━━━━━━━━━━━┳━━━━━━━━━━━━━━━━━━━━━━━━━━━┳━━━━━━━━━━━━━━━━━┳━━━━━━━━━━━━━━━━━━━━━━━━━━━━┓\n",
       "┃<span style=\"font-weight: bold\"> Layer (type)                  </span>┃<span style=\"font-weight: bold\"> Output Shape              </span>┃<span style=\"font-weight: bold\">         Param # </span>┃<span style=\"font-weight: bold\"> Connected to               </span>┃\n",
       "┡━━━━━━━━━━━━━━━━━━━━━━━━━━━━━━━╇━━━━━━━━━━━━━━━━━━━━━━━━━━━╇━━━━━━━━━━━━━━━━━╇━━━━━━━━━━━━━━━━━━━━━━━━━━━━┩\n",
       "│ padding_mask (<span style=\"color: #0087ff; text-decoration-color: #0087ff\">InputLayer</span>)     │ (<span style=\"color: #00d7ff; text-decoration-color: #00d7ff\">None</span>, <span style=\"color: #00d7ff; text-decoration-color: #00d7ff\">None</span>)              │               <span style=\"color: #00af00; text-decoration-color: #00af00\">0</span> │ -                          │\n",
       "├───────────────────────────────┼───────────────────────────┼─────────────────┼────────────────────────────┤\n",
       "│ token_ids (<span style=\"color: #0087ff; text-decoration-color: #0087ff\">InputLayer</span>)        │ (<span style=\"color: #00d7ff; text-decoration-color: #00d7ff\">None</span>, <span style=\"color: #00d7ff; text-decoration-color: #00d7ff\">None</span>)              │               <span style=\"color: #00af00; text-decoration-color: #00af00\">0</span> │ -                          │\n",
       "├───────────────────────────────┼───────────────────────────┼─────────────────┼────────────────────────────┤\n",
       "│ gemma_backbone                │ (<span style=\"color: #00d7ff; text-decoration-color: #00d7ff\">None</span>, <span style=\"color: #00d7ff; text-decoration-color: #00d7ff\">None</span>, <span style=\"color: #00af00; text-decoration-color: #00af00\">2048</span>)        │   <span style=\"color: #00af00; text-decoration-color: #00af00\">2,506,172,416</span> │ padding_mask[<span style=\"color: #00af00; text-decoration-color: #00af00\">0</span>][<span style=\"color: #00af00; text-decoration-color: #00af00\">0</span>],        │\n",
       "│ (<span style=\"color: #0087ff; text-decoration-color: #0087ff\">GemmaBackbone</span>)               │                           │                 │ token_ids[<span style=\"color: #00af00; text-decoration-color: #00af00\">0</span>][<span style=\"color: #00af00; text-decoration-color: #00af00\">0</span>]            │\n",
       "├───────────────────────────────┼───────────────────────────┼─────────────────┼────────────────────────────┤\n",
       "│ token_embedding               │ (<span style=\"color: #00d7ff; text-decoration-color: #00d7ff\">None</span>, <span style=\"color: #00d7ff; text-decoration-color: #00d7ff\">None</span>, <span style=\"color: #00af00; text-decoration-color: #00af00\">256000</span>)      │     <span style=\"color: #00af00; text-decoration-color: #00af00\">524,288,000</span> │ gemma_backbone[<span style=\"color: #00af00; text-decoration-color: #00af00\">0</span>][<span style=\"color: #00af00; text-decoration-color: #00af00\">0</span>]       │\n",
       "│ (<span style=\"color: #0087ff; text-decoration-color: #0087ff\">ReversibleEmbedding</span>)         │                           │                 │                            │\n",
       "└───────────────────────────────┴───────────────────────────┴─────────────────┴────────────────────────────┘\n",
       "</pre>\n"
      ],
      "text/plain": [
       "┏━━━━━━━━━━━━━━━━━━━━━━━━━━━━━━━┳━━━━━━━━━━━━━━━━━━━━━━━━━━━┳━━━━━━━━━━━━━━━━━┳━━━━━━━━━━━━━━━━━━━━━━━━━━━━┓\n",
       "┃\u001b[1m \u001b[0m\u001b[1mLayer (type)                 \u001b[0m\u001b[1m \u001b[0m┃\u001b[1m \u001b[0m\u001b[1mOutput Shape             \u001b[0m\u001b[1m \u001b[0m┃\u001b[1m \u001b[0m\u001b[1m        Param #\u001b[0m\u001b[1m \u001b[0m┃\u001b[1m \u001b[0m\u001b[1mConnected to              \u001b[0m\u001b[1m \u001b[0m┃\n",
       "┡━━━━━━━━━━━━━━━━━━━━━━━━━━━━━━━╇━━━━━━━━━━━━━━━━━━━━━━━━━━━╇━━━━━━━━━━━━━━━━━╇━━━━━━━━━━━━━━━━━━━━━━━━━━━━┩\n",
       "│ padding_mask (\u001b[38;5;33mInputLayer\u001b[0m)     │ (\u001b[38;5;45mNone\u001b[0m, \u001b[38;5;45mNone\u001b[0m)              │               \u001b[38;5;34m0\u001b[0m │ -                          │\n",
       "├───────────────────────────────┼───────────────────────────┼─────────────────┼────────────────────────────┤\n",
       "│ token_ids (\u001b[38;5;33mInputLayer\u001b[0m)        │ (\u001b[38;5;45mNone\u001b[0m, \u001b[38;5;45mNone\u001b[0m)              │               \u001b[38;5;34m0\u001b[0m │ -                          │\n",
       "├───────────────────────────────┼───────────────────────────┼─────────────────┼────────────────────────────┤\n",
       "│ gemma_backbone                │ (\u001b[38;5;45mNone\u001b[0m, \u001b[38;5;45mNone\u001b[0m, \u001b[38;5;34m2048\u001b[0m)        │   \u001b[38;5;34m2,506,172,416\u001b[0m │ padding_mask[\u001b[38;5;34m0\u001b[0m][\u001b[38;5;34m0\u001b[0m],        │\n",
       "│ (\u001b[38;5;33mGemmaBackbone\u001b[0m)               │                           │                 │ token_ids[\u001b[38;5;34m0\u001b[0m][\u001b[38;5;34m0\u001b[0m]            │\n",
       "├───────────────────────────────┼───────────────────────────┼─────────────────┼────────────────────────────┤\n",
       "│ token_embedding               │ (\u001b[38;5;45mNone\u001b[0m, \u001b[38;5;45mNone\u001b[0m, \u001b[38;5;34m256000\u001b[0m)      │     \u001b[38;5;34m524,288,000\u001b[0m │ gemma_backbone[\u001b[38;5;34m0\u001b[0m][\u001b[38;5;34m0\u001b[0m]       │\n",
       "│ (\u001b[38;5;33mReversibleEmbedding\u001b[0m)         │                           │                 │                            │\n",
       "└───────────────────────────────┴───────────────────────────┴─────────────────┴────────────────────────────┘\n"
      ]
     },
     "metadata": {},
     "output_type": "display_data"
    },
    {
     "data": {
      "text/html": [
       "<pre style=\"white-space:pre;overflow-x:auto;line-height:normal;font-family:Menlo,'DejaVu Sans Mono',consolas,'Courier New',monospace\"><span style=\"font-weight: bold\"> Total params: </span><span style=\"color: #00af00; text-decoration-color: #00af00\">2,506,172,416</span> (9.34 GB)\n",
       "</pre>\n"
      ],
      "text/plain": [
       "\u001b[1m Total params: \u001b[0m\u001b[38;5;34m2,506,172,416\u001b[0m (9.34 GB)\n"
      ]
     },
     "metadata": {},
     "output_type": "display_data"
    },
    {
     "data": {
      "text/html": [
       "<pre style=\"white-space:pre;overflow-x:auto;line-height:normal;font-family:Menlo,'DejaVu Sans Mono',consolas,'Courier New',monospace\"><span style=\"font-weight: bold\"> Trainable params: </span><span style=\"color: #00af00; text-decoration-color: #00af00\">2,506,172,416</span> (9.34 GB)\n",
       "</pre>\n"
      ],
      "text/plain": [
       "\u001b[1m Trainable params: \u001b[0m\u001b[38;5;34m2,506,172,416\u001b[0m (9.34 GB)\n"
      ]
     },
     "metadata": {},
     "output_type": "display_data"
    },
    {
     "data": {
      "text/html": [
       "<pre style=\"white-space:pre;overflow-x:auto;line-height:normal;font-family:Menlo,'DejaVu Sans Mono',consolas,'Courier New',monospace\"><span style=\"font-weight: bold\"> Non-trainable params: </span><span style=\"color: #00af00; text-decoration-color: #00af00\">0</span> (0.00 B)\n",
       "</pre>\n"
      ],
      "text/plain": [
       "\u001b[1m Non-trainable params: \u001b[0m\u001b[38;5;34m0\u001b[0m (0.00 B)\n"
      ]
     },
     "metadata": {},
     "output_type": "display_data"
    }
   ],
   "source": [
    "gemma_lm.summary()"
   ]
  },
  {
   "cell_type": "markdown",
   "id": "60e0483e",
   "metadata": {
    "execution": {
     "iopub.execute_input": "2024-10-12T11:27:48.037553Z",
     "iopub.status.busy": "2024-10-12T11:27:48.036871Z",
     "iopub.status.idle": "2024-10-12T11:28:11.216965Z",
     "shell.execute_reply": "2024-10-12T11:28:11.215976Z",
     "shell.execute_reply.started": "2024-10-12T11:27:48.037509Z"
    },
    "papermill": {
     "duration": 0.015653,
     "end_time": "2024-10-28T20:15:57.769508",
     "exception": false,
     "start_time": "2024-10-28T20:15:57.753855",
     "status": "completed"
    },
    "tags": []
   },
   "source": [
    "!pip install -U keras-nlp\n",
    "!pip install -U keras"
   ]
  },
  {
   "cell_type": "markdown",
   "id": "8ed8988c",
   "metadata": {
    "execution": {
     "iopub.execute_input": "2024-10-12T11:28:17.412057Z",
     "iopub.status.busy": "2024-10-12T11:28:17.411625Z",
     "iopub.status.idle": "2024-10-12T11:28:28.929454Z",
     "shell.execute_reply": "2024-10-12T11:28:28.928327Z",
     "shell.execute_reply.started": "2024-10-12T11:28:17.412014Z"
    },
    "papermill": {
     "duration": 0.015388,
     "end_time": "2024-10-28T20:15:57.800303",
     "exception": false,
     "start_time": "2024-10-28T20:15:57.784915",
     "status": "completed"
    },
    "tags": []
   },
   "source": [
    "!pip install -q -U keras>=3"
   ]
  },
  {
   "cell_type": "markdown",
   "id": "faf1cee7",
   "metadata": {
    "execution": {
     "iopub.execute_input": "2024-10-12T11:26:58.592097Z",
     "iopub.status.busy": "2024-10-12T11:26:58.591691Z",
     "iopub.status.idle": "2024-10-12T11:27:04.561515Z",
     "shell.execute_reply": "2024-10-12T11:27:04.560526Z",
     "shell.execute_reply.started": "2024-10-12T11:26:58.592057Z"
    },
    "papermill": {
     "duration": 0.015255,
     "end_time": "2024-10-28T20:15:57.830991",
     "exception": false,
     "start_time": "2024-10-28T20:15:57.815736",
     "status": "completed"
    },
    "tags": []
   },
   "source": [
    "import kagglehub\n",
    "\n",
    "# Download latest version\n",
    "path = kagglehub.model_download(\"keras/gemma/keras/gemma_instruct_2b_en\")\n",
    "\n",
    "print(\"Path to model files:\", path)"
   ]
  },
  {
   "cell_type": "code",
   "execution_count": 26,
   "id": "3dc35f26",
   "metadata": {
    "execution": {
     "iopub.execute_input": "2024-10-28T20:15:57.863026Z",
     "iopub.status.busy": "2024-10-28T20:15:57.862724Z",
     "iopub.status.idle": "2024-10-28T20:15:57.960678Z",
     "shell.execute_reply": "2024-10-28T20:15:57.959905Z"
    },
    "papermill": {
     "duration": 0.116399,
     "end_time": "2024-10-28T20:15:57.962739",
     "exception": false,
     "start_time": "2024-10-28T20:15:57.846340",
     "status": "completed"
    },
    "tags": []
   },
   "outputs": [],
   "source": [
    "x, y, sample_weight = gemma_lm.preprocessor(data[0:2])"
   ]
  },
  {
   "cell_type": "code",
   "execution_count": 27,
   "id": "8f50c50d",
   "metadata": {
    "execution": {
     "iopub.execute_input": "2024-10-28T20:15:57.995829Z",
     "iopub.status.busy": "2024-10-28T20:15:57.995533Z",
     "iopub.status.idle": "2024-10-28T20:15:58.063876Z",
     "shell.execute_reply": "2024-10-28T20:15:58.062956Z"
    },
    "papermill": {
     "duration": 0.087027,
     "end_time": "2024-10-28T20:15:58.066072",
     "exception": false,
     "start_time": "2024-10-28T20:15:57.979045",
     "status": "completed"
    },
    "tags": []
   },
   "outputs": [
    {
     "data": {
      "text/plain": [
       "{'token_ids': Array([[     2,  37854, 235292, ...,      0,      0,      0],\n",
       "        [     2,  37854, 235292, ...,      0,      0,      0]],      dtype=int32),\n",
       " 'padding_mask': Array([[ True,  True,  True, ..., False, False, False],\n",
       "        [ True,  True,  True, ..., False, False, False]], dtype=bool)}"
      ]
     },
     "execution_count": 27,
     "metadata": {},
     "output_type": "execute_result"
    }
   ],
   "source": [
    "x"
   ]
  },
  {
   "cell_type": "code",
   "execution_count": 28,
   "id": "db0ebf3b",
   "metadata": {
    "execution": {
     "iopub.execute_input": "2024-10-28T20:15:58.101183Z",
     "iopub.status.busy": "2024-10-28T20:15:58.100606Z",
     "iopub.status.idle": "2024-10-28T20:15:58.106527Z",
     "shell.execute_reply": "2024-10-28T20:15:58.105690Z"
    },
    "papermill": {
     "duration": 0.024794,
     "end_time": "2024-10-28T20:15:58.108562",
     "exception": false,
     "start_time": "2024-10-28T20:15:58.083768",
     "status": "completed"
    },
    "tags": []
   },
   "outputs": [
    {
     "data": {
      "text/plain": [
       "(2, 1024)"
      ]
     },
     "execution_count": 28,
     "metadata": {},
     "output_type": "execute_result"
    }
   ],
   "source": [
    "x['token_ids'].shape"
   ]
  },
  {
   "cell_type": "code",
   "execution_count": 29,
   "id": "fe0a9ab8",
   "metadata": {
    "execution": {
     "iopub.execute_input": "2024-10-28T20:15:58.141126Z",
     "iopub.status.busy": "2024-10-28T20:15:58.140849Z",
     "iopub.status.idle": "2024-10-28T20:15:58.146290Z",
     "shell.execute_reply": "2024-10-28T20:15:58.145408Z"
    },
    "papermill": {
     "duration": 0.023938,
     "end_time": "2024-10-28T20:15:58.148203",
     "exception": false,
     "start_time": "2024-10-28T20:15:58.124265",
     "status": "completed"
    },
    "tags": []
   },
   "outputs": [
    {
     "data": {
      "text/plain": [
       "(2, 1024)"
      ]
     },
     "execution_count": 29,
     "metadata": {},
     "output_type": "execute_result"
    }
   ],
   "source": [
    "y.shape"
   ]
  },
  {
   "cell_type": "code",
   "execution_count": 30,
   "id": "edacfe40",
   "metadata": {
    "execution": {
     "iopub.execute_input": "2024-10-28T20:15:58.180998Z",
     "iopub.status.busy": "2024-10-28T20:15:58.180733Z",
     "iopub.status.idle": "2024-10-28T20:15:58.185955Z",
     "shell.execute_reply": "2024-10-28T20:15:58.185179Z"
    },
    "papermill": {
     "duration": 0.024002,
     "end_time": "2024-10-28T20:15:58.187936",
     "exception": false,
     "start_time": "2024-10-28T20:15:58.163934",
     "status": "completed"
    },
    "tags": []
   },
   "outputs": [
    {
     "data": {
      "text/plain": [
       "(2, 1024)"
      ]
     },
     "execution_count": 30,
     "metadata": {},
     "output_type": "execute_result"
    }
   ],
   "source": [
    "sample_weight.shape"
   ]
  },
  {
   "cell_type": "markdown",
   "id": "63bb78a0",
   "metadata": {
    "papermill": {
     "duration": 0.015902,
     "end_time": "2024-10-28T20:15:58.219629",
     "exception": false,
     "start_time": "2024-10-28T20:15:58.203727",
     "status": "completed"
    },
    "tags": []
   },
   "source": [
    "### Testing before fine tuning"
   ]
  },
  {
   "cell_type": "code",
   "execution_count": 31,
   "id": "69724cd3",
   "metadata": {
    "execution": {
     "iopub.execute_input": "2024-10-28T20:15:58.252523Z",
     "iopub.status.busy": "2024-10-28T20:15:58.252261Z",
     "iopub.status.idle": "2024-10-28T20:16:08.085978Z",
     "shell.execute_reply": "2024-10-28T20:16:08.085135Z"
    },
    "papermill": {
     "duration": 9.852994,
     "end_time": "2024-10-28T20:16:08.088483",
     "exception": false,
     "start_time": "2024-10-28T20:15:58.235489",
     "status": "completed"
    },
    "tags": []
   },
   "outputs": [],
   "source": [
    "row=df.iloc[15]\n",
    "prompt=template.format(\n",
    "       original_text=row.original_text,\n",
    "       rewritten_text=row.rewritten_text,\n",
    "       rewrite_prompt='')\n",
    "\n",
    "output=gemma_lm.generate(prompt,max_length=512)\n",
    "output=colorize_text(output)"
   ]
  },
  {
   "cell_type": "code",
   "execution_count": 32,
   "id": "68f0d043",
   "metadata": {
    "execution": {
     "iopub.execute_input": "2024-10-28T20:16:08.124315Z",
     "iopub.status.busy": "2024-10-28T20:16:08.123931Z",
     "iopub.status.idle": "2024-10-28T20:16:08.129998Z",
     "shell.execute_reply": "2024-10-28T20:16:08.129199Z"
    },
    "papermill": {
     "duration": 0.026979,
     "end_time": "2024-10-28T20:16:08.131887",
     "exception": false,
     "start_time": "2024-10-28T20:16:08.104908",
     "status": "completed"
    },
    "tags": []
   },
   "outputs": [
    {
     "data": {
      "text/markdown": [
       "\n",
       "\n",
       "**<font color='Red'>Instruction:</font>**\n",
       "Below, the `Original Text` passage has been rewritten/transformed/improved into `Rewritten Text` by the `Gemma 7b-it` LLM with a certain prompt/instruction. Your task is to carefully analyze the differences between the `Original Text` and `Rewritten Text`, and try to infer the specific prompt or instruction that was likely given to the LLM to rewrite/transform/improve the text in this way.\n",
       "\n",
       "\n",
       "\n",
       "**<font color='Yellow'>Original Text:</font>**\n",
       "Esports were featured at the 2018 Asian Games as a demonstration sport, meaning medals won in this sport would not be counted in the official overall medal tally. It was held from 26 August to 1 September 2018. Six video games were featured in the demonstration event, Arena of Valor, Clash Royale, Hearthstone, League of Legends, Pro Evolution Soccer, and StarCraft II.\n",
       "\n",
       "Rewriten Text:\n",
       "In the heart of the celestial inferno, where scorching flames danced and cosmic embers ignited the sky, a civilization bloomed beneath the blazing sun. Known as Stellaris, they carved their existence within the heart of a celestial furnace, a testament to the enduring spirit of humanity.\n",
       "\n",
       "Stellaris had harnessed the radiant energy of the star, harnessing its scorching power to fuel their advanced technology and illuminate their home. Their cities pulsed with the rhythm of celestial waves, radiant towers piercing through the aether, a reflection of their ambition and resilience.\n",
       "\n",
       "Their lives revolved around the enigmatic star, its luminescence casting long shadows upon the celestial canvas below.\n",
       "\n",
       "\n",
       "\n",
       "**<font color='Green'>Response:</font>**\n",
       "The specific prompt or instruction that was likely given to the LLM to rewrite/transform the text in this way is not explicitly mentioned in the context, so I cannot infer the information from the context."
      ],
      "text/plain": [
       "<IPython.core.display.Markdown object>"
      ]
     },
     "metadata": {},
     "output_type": "display_data"
    }
   ],
   "source": [
    "display(Markdown(output))"
   ]
  },
  {
   "cell_type": "markdown",
   "id": "4d8e3d5d",
   "metadata": {
    "papermill": {
     "duration": 0.016151,
     "end_time": "2024-10-28T20:16:08.164272",
     "exception": false,
     "start_time": "2024-10-28T20:16:08.148121",
     "status": "completed"
    },
    "tags": []
   },
   "source": [
    "### Fine Tuning with Lora"
   ]
  },
  {
   "cell_type": "code",
   "execution_count": 33,
   "id": "1ab4ac8c",
   "metadata": {
    "execution": {
     "iopub.execute_input": "2024-10-28T20:16:08.198010Z",
     "iopub.status.busy": "2024-10-28T20:16:08.197457Z",
     "iopub.status.idle": "2024-10-28T20:16:08.458212Z",
     "shell.execute_reply": "2024-10-28T20:16:08.456933Z"
    },
    "papermill": {
     "duration": 0.279864,
     "end_time": "2024-10-28T20:16:08.460318",
     "exception": false,
     "start_time": "2024-10-28T20:16:08.180454",
     "status": "completed"
    },
    "tags": []
   },
   "outputs": [
    {
     "data": {
      "text/html": [
       "<pre style=\"white-space:pre;overflow-x:auto;line-height:normal;font-family:Menlo,'DejaVu Sans Mono',consolas,'Courier New',monospace\"><span style=\"font-weight: bold\">Preprocessor: \"gemma_causal_lm_preprocessor\"</span>\n",
       "</pre>\n"
      ],
      "text/plain": [
       "\u001b[1mPreprocessor: \"gemma_causal_lm_preprocessor\"\u001b[0m\n"
      ]
     },
     "metadata": {},
     "output_type": "display_data"
    },
    {
     "data": {
      "text/html": [
       "<pre style=\"white-space:pre;overflow-x:auto;line-height:normal;font-family:Menlo,'DejaVu Sans Mono',consolas,'Courier New',monospace\">┏━━━━━━━━━━━━━━━━━━━━━━━━━━━━━━━━━━━━━━━━━━━━━━━━━━━━━━━━━━━━━━━┳━━━━━━━━━━━━━━━━━━━━━━━━━━━━━━━━━━━━━━━━━━┓\n",
       "┃<span style=\"font-weight: bold\"> Layer (type)                                                  </span>┃<span style=\"font-weight: bold\">                                   Config </span>┃\n",
       "┡━━━━━━━━━━━━━━━━━━━━━━━━━━━━━━━━━━━━━━━━━━━━━━━━━━━━━━━━━━━━━━━╇━━━━━━━━━━━━━━━━━━━━━━━━━━━━━━━━━━━━━━━━━━┩\n",
       "│ gemma_tokenizer (<span style=\"color: #0087ff; text-decoration-color: #0087ff\">GemmaTokenizer</span>)                              │                      Vocab size: <span style=\"color: #00af00; text-decoration-color: #00af00\">256,000</span> │\n",
       "└───────────────────────────────────────────────────────────────┴──────────────────────────────────────────┘\n",
       "</pre>\n"
      ],
      "text/plain": [
       "┏━━━━━━━━━━━━━━━━━━━━━━━━━━━━━━━━━━━━━━━━━━━━━━━━━━━━━━━━━━━━━━━┳━━━━━━━━━━━━━━━━━━━━━━━━━━━━━━━━━━━━━━━━━━┓\n",
       "┃\u001b[1m \u001b[0m\u001b[1mLayer (type)                                                 \u001b[0m\u001b[1m \u001b[0m┃\u001b[1m \u001b[0m\u001b[1m                                  Config\u001b[0m\u001b[1m \u001b[0m┃\n",
       "┡━━━━━━━━━━━━━━━━━━━━━━━━━━━━━━━━━━━━━━━━━━━━━━━━━━━━━━━━━━━━━━━╇━━━━━━━━━━━━━━━━━━━━━━━━━━━━━━━━━━━━━━━━━━┩\n",
       "│ gemma_tokenizer (\u001b[38;5;33mGemmaTokenizer\u001b[0m)                              │                      Vocab size: \u001b[38;5;34m256,000\u001b[0m │\n",
       "└───────────────────────────────────────────────────────────────┴──────────────────────────────────────────┘\n"
      ]
     },
     "metadata": {},
     "output_type": "display_data"
    },
    {
     "data": {
      "text/html": [
       "<pre style=\"white-space:pre;overflow-x:auto;line-height:normal;font-family:Menlo,'DejaVu Sans Mono',consolas,'Courier New',monospace\"><span style=\"font-weight: bold\">Model: \"gemma_causal_lm\"</span>\n",
       "</pre>\n"
      ],
      "text/plain": [
       "\u001b[1mModel: \"gemma_causal_lm\"\u001b[0m\n"
      ]
     },
     "metadata": {},
     "output_type": "display_data"
    },
    {
     "data": {
      "text/html": [
       "<pre style=\"white-space:pre;overflow-x:auto;line-height:normal;font-family:Menlo,'DejaVu Sans Mono',consolas,'Courier New',monospace\">┏━━━━━━━━━━━━━━━━━━━━━━━━━━━━━━━┳━━━━━━━━━━━━━━━━━━━━━━━━━━━┳━━━━━━━━━━━━━━━━━┳━━━━━━━━━━━━━━━━━━━━━━━━━━━━┓\n",
       "┃<span style=\"font-weight: bold\"> Layer (type)                  </span>┃<span style=\"font-weight: bold\"> Output Shape              </span>┃<span style=\"font-weight: bold\">         Param # </span>┃<span style=\"font-weight: bold\"> Connected to               </span>┃\n",
       "┡━━━━━━━━━━━━━━━━━━━━━━━━━━━━━━━╇━━━━━━━━━━━━━━━━━━━━━━━━━━━╇━━━━━━━━━━━━━━━━━╇━━━━━━━━━━━━━━━━━━━━━━━━━━━━┩\n",
       "│ padding_mask (<span style=\"color: #0087ff; text-decoration-color: #0087ff\">InputLayer</span>)     │ (<span style=\"color: #00d7ff; text-decoration-color: #00d7ff\">None</span>, <span style=\"color: #00d7ff; text-decoration-color: #00d7ff\">None</span>)              │               <span style=\"color: #00af00; text-decoration-color: #00af00\">0</span> │ -                          │\n",
       "├───────────────────────────────┼───────────────────────────┼─────────────────┼────────────────────────────┤\n",
       "│ token_ids (<span style=\"color: #0087ff; text-decoration-color: #0087ff\">InputLayer</span>)        │ (<span style=\"color: #00d7ff; text-decoration-color: #00d7ff\">None</span>, <span style=\"color: #00d7ff; text-decoration-color: #00d7ff\">None</span>)              │               <span style=\"color: #00af00; text-decoration-color: #00af00\">0</span> │ -                          │\n",
       "├───────────────────────────────┼───────────────────────────┼─────────────────┼────────────────────────────┤\n",
       "│ gemma_backbone                │ (<span style=\"color: #00d7ff; text-decoration-color: #00d7ff\">None</span>, <span style=\"color: #00d7ff; text-decoration-color: #00d7ff\">None</span>, <span style=\"color: #00af00; text-decoration-color: #00af00\">2048</span>)        │   <span style=\"color: #00af00; text-decoration-color: #00af00\">2,507,536,384</span> │ padding_mask[<span style=\"color: #00af00; text-decoration-color: #00af00\">0</span>][<span style=\"color: #00af00; text-decoration-color: #00af00\">0</span>],        │\n",
       "│ (<span style=\"color: #0087ff; text-decoration-color: #0087ff\">GemmaBackbone</span>)               │                           │                 │ token_ids[<span style=\"color: #00af00; text-decoration-color: #00af00\">0</span>][<span style=\"color: #00af00; text-decoration-color: #00af00\">0</span>]            │\n",
       "├───────────────────────────────┼───────────────────────────┼─────────────────┼────────────────────────────┤\n",
       "│ token_embedding               │ (<span style=\"color: #00d7ff; text-decoration-color: #00d7ff\">None</span>, <span style=\"color: #00d7ff; text-decoration-color: #00d7ff\">None</span>, <span style=\"color: #00af00; text-decoration-color: #00af00\">256000</span>)      │     <span style=\"color: #00af00; text-decoration-color: #00af00\">524,288,000</span> │ gemma_backbone[<span style=\"color: #00af00; text-decoration-color: #00af00\">0</span>][<span style=\"color: #00af00; text-decoration-color: #00af00\">0</span>]       │\n",
       "│ (<span style=\"color: #0087ff; text-decoration-color: #0087ff\">ReversibleEmbedding</span>)         │                           │                 │                            │\n",
       "└───────────────────────────────┴───────────────────────────┴─────────────────┴────────────────────────────┘\n",
       "</pre>\n"
      ],
      "text/plain": [
       "┏━━━━━━━━━━━━━━━━━━━━━━━━━━━━━━━┳━━━━━━━━━━━━━━━━━━━━━━━━━━━┳━━━━━━━━━━━━━━━━━┳━━━━━━━━━━━━━━━━━━━━━━━━━━━━┓\n",
       "┃\u001b[1m \u001b[0m\u001b[1mLayer (type)                 \u001b[0m\u001b[1m \u001b[0m┃\u001b[1m \u001b[0m\u001b[1mOutput Shape             \u001b[0m\u001b[1m \u001b[0m┃\u001b[1m \u001b[0m\u001b[1m        Param #\u001b[0m\u001b[1m \u001b[0m┃\u001b[1m \u001b[0m\u001b[1mConnected to              \u001b[0m\u001b[1m \u001b[0m┃\n",
       "┡━━━━━━━━━━━━━━━━━━━━━━━━━━━━━━━╇━━━━━━━━━━━━━━━━━━━━━━━━━━━╇━━━━━━━━━━━━━━━━━╇━━━━━━━━━━━━━━━━━━━━━━━━━━━━┩\n",
       "│ padding_mask (\u001b[38;5;33mInputLayer\u001b[0m)     │ (\u001b[38;5;45mNone\u001b[0m, \u001b[38;5;45mNone\u001b[0m)              │               \u001b[38;5;34m0\u001b[0m │ -                          │\n",
       "├───────────────────────────────┼───────────────────────────┼─────────────────┼────────────────────────────┤\n",
       "│ token_ids (\u001b[38;5;33mInputLayer\u001b[0m)        │ (\u001b[38;5;45mNone\u001b[0m, \u001b[38;5;45mNone\u001b[0m)              │               \u001b[38;5;34m0\u001b[0m │ -                          │\n",
       "├───────────────────────────────┼───────────────────────────┼─────────────────┼────────────────────────────┤\n",
       "│ gemma_backbone                │ (\u001b[38;5;45mNone\u001b[0m, \u001b[38;5;45mNone\u001b[0m, \u001b[38;5;34m2048\u001b[0m)        │   \u001b[38;5;34m2,507,536,384\u001b[0m │ padding_mask[\u001b[38;5;34m0\u001b[0m][\u001b[38;5;34m0\u001b[0m],        │\n",
       "│ (\u001b[38;5;33mGemmaBackbone\u001b[0m)               │                           │                 │ token_ids[\u001b[38;5;34m0\u001b[0m][\u001b[38;5;34m0\u001b[0m]            │\n",
       "├───────────────────────────────┼───────────────────────────┼─────────────────┼────────────────────────────┤\n",
       "│ token_embedding               │ (\u001b[38;5;45mNone\u001b[0m, \u001b[38;5;45mNone\u001b[0m, \u001b[38;5;34m256000\u001b[0m)      │     \u001b[38;5;34m524,288,000\u001b[0m │ gemma_backbone[\u001b[38;5;34m0\u001b[0m][\u001b[38;5;34m0\u001b[0m]       │\n",
       "│ (\u001b[38;5;33mReversibleEmbedding\u001b[0m)         │                           │                 │                            │\n",
       "└───────────────────────────────┴───────────────────────────┴─────────────────┴────────────────────────────┘\n"
      ]
     },
     "metadata": {},
     "output_type": "display_data"
    },
    {
     "data": {
      "text/html": [
       "<pre style=\"white-space:pre;overflow-x:auto;line-height:normal;font-family:Menlo,'DejaVu Sans Mono',consolas,'Courier New',monospace\"><span style=\"font-weight: bold\"> Total params: </span><span style=\"color: #00af00; text-decoration-color: #00af00\">2,507,536,384</span> (9.34 GB)\n",
       "</pre>\n"
      ],
      "text/plain": [
       "\u001b[1m Total params: \u001b[0m\u001b[38;5;34m2,507,536,384\u001b[0m (9.34 GB)\n"
      ]
     },
     "metadata": {},
     "output_type": "display_data"
    },
    {
     "data": {
      "text/html": [
       "<pre style=\"white-space:pre;overflow-x:auto;line-height:normal;font-family:Menlo,'DejaVu Sans Mono',consolas,'Courier New',monospace\"><span style=\"font-weight: bold\"> Trainable params: </span><span style=\"color: #00af00; text-decoration-color: #00af00\">1,363,968</span> (5.20 MB)\n",
       "</pre>\n"
      ],
      "text/plain": [
       "\u001b[1m Trainable params: \u001b[0m\u001b[38;5;34m1,363,968\u001b[0m (5.20 MB)\n"
      ]
     },
     "metadata": {},
     "output_type": "display_data"
    },
    {
     "data": {
      "text/html": [
       "<pre style=\"white-space:pre;overflow-x:auto;line-height:normal;font-family:Menlo,'DejaVu Sans Mono',consolas,'Courier New',monospace\"><span style=\"font-weight: bold\"> Non-trainable params: </span><span style=\"color: #00af00; text-decoration-color: #00af00\">2,506,172,416</span> (9.34 GB)\n",
       "</pre>\n"
      ],
      "text/plain": [
       "\u001b[1m Non-trainable params: \u001b[0m\u001b[38;5;34m2,506,172,416\u001b[0m (9.34 GB)\n"
      ]
     },
     "metadata": {},
     "output_type": "display_data"
    }
   ],
   "source": [
    "gemma_lm.backbone.enable_lora(rank=4)\n",
    "gemma_lm.summary()"
   ]
  },
  {
   "cell_type": "code",
   "execution_count": 34,
   "id": "3895a26d",
   "metadata": {
    "execution": {
     "iopub.execute_input": "2024-10-28T20:16:08.496725Z",
     "iopub.status.busy": "2024-10-28T20:16:08.496406Z",
     "iopub.status.idle": "2024-10-28T20:16:08.554353Z",
     "shell.execute_reply": "2024-10-28T20:16:08.553420Z"
    },
    "papermill": {
     "duration": 0.07867,
     "end_time": "2024-10-28T20:16:08.556632",
     "exception": false,
     "start_time": "2024-10-28T20:16:08.477962",
     "status": "completed"
    },
    "tags": []
   },
   "outputs": [],
   "source": [
    "gemma_lm.preprocessor.sequence_length= CFG.sequence_length\n",
    "\n",
    "gemma_lm.compile(loss=keras.losses.SparseCategoricalCrossentropy(from_logits=True),\n",
    "                optimizer=keras.optimizers.Adam(learning_rate=3e-5),\n",
    "                weighted_metrics=[keras.metrics.SparseCategoricalAccuracy()])"
   ]
  },
  {
   "cell_type": "code",
   "execution_count": 35,
   "id": "1a453c6e",
   "metadata": {
    "execution": {
     "iopub.execute_input": "2024-10-28T20:16:08.593233Z",
     "iopub.status.busy": "2024-10-28T20:16:08.592888Z",
     "iopub.status.idle": "2024-10-28T20:40:48.788169Z",
     "shell.execute_reply": "2024-10-28T20:40:48.787198Z"
    },
    "papermill": {
     "duration": 1480.215928,
     "end_time": "2024-10-28T20:40:48.790157",
     "exception": false,
     "start_time": "2024-10-28T20:16:08.574229",
     "status": "completed"
    },
    "tags": []
   },
   "outputs": [
    {
     "name": "stdout",
     "output_type": "stream",
     "text": [
      "\u001b[1m2000/2000\u001b[0m \u001b[32m━━━━━━━━━━━━━━━━━━━━\u001b[0m\u001b[37m\u001b[0m \u001b[1m1479s\u001b[0m 730ms/step - loss: 1.3144 - sparse_categorical_accuracy: 0.6193\n"
     ]
    },
    {
     "data": {
      "text/plain": [
       "<keras.src.callbacks.history.History at 0x7eca28738fd0>"
      ]
     },
     "execution_count": 35,
     "metadata": {},
     "output_type": "execute_result"
    }
   ],
   "source": [
    "gemma_lm.fit(data,epochs=CFG.epochs,batch_size=CFG.batch_size)"
   ]
  },
  {
   "cell_type": "markdown",
   "id": "1bbb2392",
   "metadata": {
    "papermill": {
     "duration": 0.205826,
     "end_time": "2024-10-28T20:40:49.175484",
     "exception": false,
     "start_time": "2024-10-28T20:40:48.969658",
     "status": "completed"
    },
    "tags": []
   },
   "source": [
    "### Test Data"
   ]
  },
  {
   "cell_type": "code",
   "execution_count": 36,
   "id": "4a88fb5b",
   "metadata": {
    "execution": {
     "iopub.execute_input": "2024-10-28T20:40:49.563666Z",
     "iopub.status.busy": "2024-10-28T20:40:49.563270Z",
     "iopub.status.idle": "2024-10-28T20:40:49.575090Z",
     "shell.execute_reply": "2024-10-28T20:40:49.574194Z"
    },
    "papermill": {
     "duration": 0.213282,
     "end_time": "2024-10-28T20:40:49.577126",
     "exception": false,
     "start_time": "2024-10-28T20:40:49.363844",
     "status": "completed"
    },
    "tags": []
   },
   "outputs": [],
   "source": [
    "test_df=pd.read_csv('/kaggle/input/llm-prompt-recovery/test.csv')"
   ]
  },
  {
   "cell_type": "code",
   "execution_count": 37,
   "id": "bea80701",
   "metadata": {
    "execution": {
     "iopub.execute_input": "2024-10-28T20:40:49.943966Z",
     "iopub.status.busy": "2024-10-28T20:40:49.943597Z",
     "iopub.status.idle": "2024-10-28T20:40:49.953372Z",
     "shell.execute_reply": "2024-10-28T20:40:49.952405Z"
    },
    "papermill": {
     "duration": 0.194952,
     "end_time": "2024-10-28T20:40:49.955583",
     "exception": false,
     "start_time": "2024-10-28T20:40:49.760631",
     "status": "completed"
    },
    "tags": []
   },
   "outputs": [
    {
     "data": {
      "text/html": [
       "<div>\n",
       "<style scoped>\n",
       "    .dataframe tbody tr th:only-of-type {\n",
       "        vertical-align: middle;\n",
       "    }\n",
       "\n",
       "    .dataframe tbody tr th {\n",
       "        vertical-align: top;\n",
       "    }\n",
       "\n",
       "    .dataframe thead th {\n",
       "        text-align: right;\n",
       "    }\n",
       "</style>\n",
       "<table border=\"1\" class=\"dataframe\">\n",
       "  <thead>\n",
       "    <tr style=\"text-align: right;\">\n",
       "      <th></th>\n",
       "      <th>id</th>\n",
       "      <th>original_text</th>\n",
       "      <th>rewritten_text</th>\n",
       "    </tr>\n",
       "  </thead>\n",
       "  <tbody>\n",
       "    <tr>\n",
       "      <th>0</th>\n",
       "      <td>-1</td>\n",
       "      <td>The competition dataset comprises text passage...</td>\n",
       "      <td>Here is your shanty: (Verse 1) The text is rew...</td>\n",
       "    </tr>\n",
       "  </tbody>\n",
       "</table>\n",
       "</div>"
      ],
      "text/plain": [
       "   id                                      original_text  \\\n",
       "0  -1  The competition dataset comprises text passage...   \n",
       "\n",
       "                                      rewritten_text  \n",
       "0  Here is your shanty: (Verse 1) The text is rew...  "
      ]
     },
     "execution_count": 37,
     "metadata": {},
     "output_type": "execute_result"
    }
   ],
   "source": [
    "test_df"
   ]
  },
  {
   "cell_type": "code",
   "execution_count": 38,
   "id": "b1ad08e5",
   "metadata": {
    "execution": {
     "iopub.execute_input": "2024-10-28T20:40:50.320860Z",
     "iopub.status.busy": "2024-10-28T20:40:50.319989Z",
     "iopub.status.idle": "2024-10-28T20:40:58.853227Z",
     "shell.execute_reply": "2024-10-28T20:40:58.852192Z"
    },
    "papermill": {
     "duration": 8.717721,
     "end_time": "2024-10-28T20:40:58.855793",
     "exception": false,
     "start_time": "2024-10-28T20:40:50.138072",
     "status": "completed"
    },
    "tags": []
   },
   "outputs": [],
   "source": [
    "prompt=template.format(original_text=test_df.original_text,\n",
    "                      rewritten_text=test_df.rewritten_text,\n",
    "                      rewrite_prompt='')\n",
    "output=gemma_lm.generate(prompt,max_length=512)"
   ]
  },
  {
   "cell_type": "code",
   "execution_count": 39,
   "id": "b0c2f99f",
   "metadata": {
    "execution": {
     "iopub.execute_input": "2024-10-28T20:40:59.215087Z",
     "iopub.status.busy": "2024-10-28T20:40:59.214698Z",
     "iopub.status.idle": "2024-10-28T20:40:59.221251Z",
     "shell.execute_reply": "2024-10-28T20:40:59.220341Z"
    },
    "papermill": {
     "duration": 0.189497,
     "end_time": "2024-10-28T20:40:59.223282",
     "exception": false,
     "start_time": "2024-10-28T20:40:59.033785",
     "status": "completed"
    },
    "tags": []
   },
   "outputs": [
    {
     "data": {
      "text/markdown": [
       "\n",
       "\n",
       "**<font color='Red'>Instruction:</font>**\n",
       "Below, the `Original Text` passage has been rewritten/transformed/improved into `Rewritten Text` by the `Gemma 7b-it` LLM with a certain prompt/instruction. Your task is to carefully analyze the differences between the `Original Text` and `Rewritten Text`, and try to infer the specific prompt or instruction that was likely given to the LLM to rewrite/transform/improve the text in this way.\n",
       "\n",
       "\n",
       "\n",
       "**<font color='Yellow'>Original Text:</font>**\n",
       "0    The competition dataset comprises text passage...\n",
       "Name: original_text, dtype: object\n",
       "\n",
       "Rewriten Text:\n",
       "0    Here is your shanty: (Verse 1) The text is rew...\n",
       "Name: rewritten_text, dtype: object\n",
       "\n",
       "\n",
       "\n",
       "**<font color='Green'>Response:</font>**\n",
       "Transform it into a shanty."
      ],
      "text/plain": [
       "<IPython.core.display.Markdown object>"
      ]
     },
     "metadata": {},
     "output_type": "display_data"
    }
   ],
   "source": [
    "output=colorize_text(output)\n",
    "display(Markdown(output))"
   ]
  },
  {
   "cell_type": "markdown",
   "id": "4082e346",
   "metadata": {
    "papermill": {
     "duration": 0.216985,
     "end_time": "2024-10-28T20:40:59.618088",
     "exception": false,
     "start_time": "2024-10-28T20:40:59.401103",
     "status": "completed"
    },
    "tags": []
   },
   "source": [
    "### sample_submission"
   ]
  },
  {
   "cell_type": "code",
   "execution_count": 40,
   "id": "fda8fbdb",
   "metadata": {
    "execution": {
     "iopub.execute_input": "2024-10-28T20:40:59.972062Z",
     "iopub.status.busy": "2024-10-28T20:40:59.971676Z",
     "iopub.status.idle": "2024-10-28T20:41:00.480132Z",
     "shell.execute_reply": "2024-10-28T20:41:00.479220Z"
    },
    "papermill": {
     "duration": 0.688234,
     "end_time": "2024-10-28T20:41:00.482631",
     "exception": false,
     "start_time": "2024-10-28T20:40:59.794397",
     "status": "completed"
    },
    "tags": []
   },
   "outputs": [
    {
     "data": {
      "application/vnd.jupyter.widget-view+json": {
       "model_id": "cb757260eb2b4c339941adc4a06f6d65",
       "version_major": 2,
       "version_minor": 0
      },
      "text/plain": [
       "  0%|          | 0/1 [00:00<?, ?it/s]"
      ]
     },
     "metadata": {},
     "output_type": "display_data"
    }
   ],
   "source": [
    "preds = []\n",
    "for i in tqdm(range(len(test_df))):\n",
    "    row = test_df.iloc[i]\n",
    "\n",
    "    # Generate Prompt using template\n",
    "    prompt = template.format(\n",
    "        original_text=row.original_text,\n",
    "        rewritten_text=row.rewritten_text,\n",
    "        rewrite_prompt=\"\"\n",
    "    )\n",
    "\n",
    "    # Infer\n",
    "    output = gemma_lm.generate(prompt, max_length=512)\n",
    "    pred = output.replace(prompt, \"\") # remove the prompt from output\n",
    "    \n",
    "    # Store predictions\n",
    "    preds.append([row.id, pred])"
   ]
  },
  {
   "cell_type": "code",
   "execution_count": 41,
   "id": "1acee790",
   "metadata": {
    "execution": {
     "iopub.execute_input": "2024-10-28T20:41:00.835989Z",
     "iopub.status.busy": "2024-10-28T20:41:00.835277Z",
     "iopub.status.idle": "2024-10-28T20:41:00.849280Z",
     "shell.execute_reply": "2024-10-28T20:41:00.848356Z"
    },
    "papermill": {
     "duration": 0.192171,
     "end_time": "2024-10-28T20:41:00.851173",
     "exception": false,
     "start_time": "2024-10-28T20:41:00.659002",
     "status": "completed"
    },
    "tags": []
   },
   "outputs": [
    {
     "data": {
      "text/html": [
       "<div>\n",
       "<style scoped>\n",
       "    .dataframe tbody tr th:only-of-type {\n",
       "        vertical-align: middle;\n",
       "    }\n",
       "\n",
       "    .dataframe tbody tr th {\n",
       "        vertical-align: top;\n",
       "    }\n",
       "\n",
       "    .dataframe thead th {\n",
       "        text-align: right;\n",
       "    }\n",
       "</style>\n",
       "<table border=\"1\" class=\"dataframe\">\n",
       "  <thead>\n",
       "    <tr style=\"text-align: right;\">\n",
       "      <th></th>\n",
       "      <th>id</th>\n",
       "      <th>rewrite_prompt</th>\n",
       "    </tr>\n",
       "  </thead>\n",
       "  <tbody>\n",
       "    <tr>\n",
       "      <th>0</th>\n",
       "      <td>-1</td>\n",
       "      <td>Convert this into a code competition.</td>\n",
       "    </tr>\n",
       "  </tbody>\n",
       "</table>\n",
       "</div>"
      ],
      "text/plain": [
       "   id                         rewrite_prompt\n",
       "0  -1  Convert this into a code competition."
      ]
     },
     "execution_count": 41,
     "metadata": {},
     "output_type": "execute_result"
    }
   ],
   "source": [
    "sub_df = pd.DataFrame(preds, columns=[\"id\", \"rewrite_prompt\"])\n",
    "sub_df['rewrite_prompt'] = sub_df['rewrite_prompt'].fillna(\"\")\n",
    "sub_df['rewrite_prompt'] = sub_df['rewrite_prompt'].map(lambda x: \"Improve the essay\" if len(x) == 0 else x)\n",
    "sub_df.to_csv(\"submission.csv\",index=False)\n",
    "sub_df.head()"
   ]
  },
  {
   "cell_type": "code",
   "execution_count": null,
   "id": "821d2415",
   "metadata": {
    "papermill": {
     "duration": 0.181553,
     "end_time": "2024-10-28T20:41:01.238384",
     "exception": false,
     "start_time": "2024-10-28T20:41:01.056831",
     "status": "completed"
    },
    "tags": []
   },
   "outputs": [],
   "source": []
  }
 ],
 "metadata": {
  "kaggle": {
   "accelerator": "gpu",
   "dataSources": [
    {
     "databundleVersionId": 7806901,
     "sourceId": 67121,
     "sourceType": "competition"
    },
    {
     "datasetId": 4517764,
     "sourceId": 7731345,
     "sourceType": "datasetVersion"
    },
    {
     "datasetId": 4518936,
     "sourceId": 7733314,
     "sourceType": "datasetVersion"
    },
    {
     "modelId": 3533,
     "modelInstanceId": 5388,
     "sourceId": 11372,
     "sourceType": "modelInstanceVersion"
    }
   ],
   "dockerImageVersionId": 30775,
   "isGpuEnabled": true,
   "isInternetEnabled": false,
   "language": "python",
   "sourceType": "notebook"
  },
  "kernelspec": {
   "display_name": "Python 3",
   "language": "python",
   "name": "python3"
  },
  "language_info": {
   "codemirror_mode": {
    "name": "ipython",
    "version": 3
   },
   "file_extension": ".py",
   "mimetype": "text/x-python",
   "name": "python",
   "nbconvert_exporter": "python",
   "pygments_lexer": "ipython3",
   "version": "3.10.14"
  },
  "papermill": {
   "default_parameters": {},
   "duration": 1560.275301,
   "end_time": "2024-10-28T20:41:04.013426",
   "environment_variables": {},
   "exception": null,
   "input_path": "__notebook__.ipynb",
   "output_path": "__notebook__.ipynb",
   "parameters": {},
   "start_time": "2024-10-28T20:15:03.738125",
   "version": "2.6.0"
  },
  "widgets": {
   "application/vnd.jupyter.widget-state+json": {
    "state": {
     "0468243ca87341ada6473f110333400f": {
      "model_module": "@jupyter-widgets/controls",
      "model_module_version": "1.5.0",
      "model_name": "HBoxModel",
      "state": {
       "_dom_classes": [],
       "_model_module": "@jupyter-widgets/controls",
       "_model_module_version": "1.5.0",
       "_model_name": "HBoxModel",
       "_view_count": null,
       "_view_module": "@jupyter-widgets/controls",
       "_view_module_version": "1.5.0",
       "_view_name": "HBoxView",
       "box_style": "",
       "children": [
        "IPY_MODEL_311e78b11e1b4d9c9640233795fd2105",
        "IPY_MODEL_948cd13b66f144c3baa70398f198521e",
        "IPY_MODEL_df009d2f902745dd9e03ea1ac97c71a3"
       ],
       "layout": "IPY_MODEL_de27acbf8a86492ea34037e2cd3e2eb7"
      }
     },
     "311e78b11e1b4d9c9640233795fd2105": {
      "model_module": "@jupyter-widgets/controls",
      "model_module_version": "1.5.0",
      "model_name": "HTMLModel",
      "state": {
       "_dom_classes": [],
       "_model_module": "@jupyter-widgets/controls",
       "_model_module_version": "1.5.0",
       "_model_name": "HTMLModel",
       "_view_count": null,
       "_view_module": "@jupyter-widgets/controls",
       "_view_module_version": "1.5.0",
       "_view_name": "HTMLView",
       "description": "",
       "description_tooltip": null,
       "layout": "IPY_MODEL_c9a194c699574bf4b264e981f0caa8d6",
       "placeholder": "​",
       "style": "IPY_MODEL_cd02791231eb46b0bd9fb7d3b23f7a78",
       "value": "100%"
      }
     },
     "34289720656246f081aae7d629f5225f": {
      "model_module": "@jupyter-widgets/controls",
      "model_module_version": "1.5.0",
      "model_name": "FloatProgressModel",
      "state": {
       "_dom_classes": [],
       "_model_module": "@jupyter-widgets/controls",
       "_model_module_version": "1.5.0",
       "_model_name": "FloatProgressModel",
       "_view_count": null,
       "_view_module": "@jupyter-widgets/controls",
       "_view_module_version": "1.5.0",
       "_view_name": "ProgressView",
       "bar_style": "success",
       "description": "",
       "description_tooltip": null,
       "layout": "IPY_MODEL_e5b53220363245559111b64a4b238a79",
       "max": 1.0,
       "min": 0.0,
       "orientation": "horizontal",
       "style": "IPY_MODEL_b5733de6cec34d93af56f74009e7d27f",
       "value": 1.0
      }
     },
     "3d9c1faa63e54346befd7cbaad029463": {
      "model_module": "@jupyter-widgets/base",
      "model_module_version": "1.2.0",
      "model_name": "LayoutModel",
      "state": {
       "_model_module": "@jupyter-widgets/base",
       "_model_module_version": "1.2.0",
       "_model_name": "LayoutModel",
       "_view_count": null,
       "_view_module": "@jupyter-widgets/base",
       "_view_module_version": "1.2.0",
       "_view_name": "LayoutView",
       "align_content": null,
       "align_items": null,
       "align_self": null,
       "border": null,
       "bottom": null,
       "display": null,
       "flex": null,
       "flex_flow": null,
       "grid_area": null,
       "grid_auto_columns": null,
       "grid_auto_flow": null,
       "grid_auto_rows": null,
       "grid_column": null,
       "grid_gap": null,
       "grid_row": null,
       "grid_template_areas": null,
       "grid_template_columns": null,
       "grid_template_rows": null,
       "height": null,
       "justify_content": null,
       "justify_items": null,
       "left": null,
       "margin": null,
       "max_height": null,
       "max_width": null,
       "min_height": null,
       "min_width": null,
       "object_fit": null,
       "object_position": null,
       "order": null,
       "overflow": null,
       "overflow_x": null,
       "overflow_y": null,
       "padding": null,
       "right": null,
       "top": null,
       "visibility": null,
       "width": null
      }
     },
     "4ca0a1bd542e4592922e38368a37c3b8": {
      "model_module": "@jupyter-widgets/base",
      "model_module_version": "1.2.0",
      "model_name": "LayoutModel",
      "state": {
       "_model_module": "@jupyter-widgets/base",
       "_model_module_version": "1.2.0",
       "_model_name": "LayoutModel",
       "_view_count": null,
       "_view_module": "@jupyter-widgets/base",
       "_view_module_version": "1.2.0",
       "_view_name": "LayoutView",
       "align_content": null,
       "align_items": null,
       "align_self": null,
       "border": null,
       "bottom": null,
       "display": null,
       "flex": null,
       "flex_flow": null,
       "grid_area": null,
       "grid_auto_columns": null,
       "grid_auto_flow": null,
       "grid_auto_rows": null,
       "grid_column": null,
       "grid_gap": null,
       "grid_row": null,
       "grid_template_areas": null,
       "grid_template_columns": null,
       "grid_template_rows": null,
       "height": null,
       "justify_content": null,
       "justify_items": null,
       "left": null,
       "margin": null,
       "max_height": null,
       "max_width": null,
       "min_height": null,
       "min_width": null,
       "object_fit": null,
       "object_position": null,
       "order": null,
       "overflow": null,
       "overflow_x": null,
       "overflow_y": null,
       "padding": null,
       "right": null,
       "top": null,
       "visibility": null,
       "width": null
      }
     },
     "4e583fd63ca44cf2a5a991de910d1871": {
      "model_module": "@jupyter-widgets/controls",
      "model_module_version": "1.5.0",
      "model_name": "DescriptionStyleModel",
      "state": {
       "_model_module": "@jupyter-widgets/controls",
       "_model_module_version": "1.5.0",
       "_model_name": "DescriptionStyleModel",
       "_view_count": null,
       "_view_module": "@jupyter-widgets/base",
       "_view_module_version": "1.2.0",
       "_view_name": "StyleView",
       "description_width": ""
      }
     },
     "592c8dd016944059888da1c524cc77a2": {
      "model_module": "@jupyter-widgets/controls",
      "model_module_version": "1.5.0",
      "model_name": "HTMLModel",
      "state": {
       "_dom_classes": [],
       "_model_module": "@jupyter-widgets/controls",
       "_model_module_version": "1.5.0",
       "_model_name": "HTMLModel",
       "_view_count": null,
       "_view_module": "@jupyter-widgets/controls",
       "_view_module_version": "1.5.0",
       "_view_name": "HTMLView",
       "description": "",
       "description_tooltip": null,
       "layout": "IPY_MODEL_e21727378de34c1389f9fe5ab2ec18fb",
       "placeholder": "​",
       "style": "IPY_MODEL_a2f47f587f17446f93ce120638f593a8",
       "value": " 1/1 [00:00&lt;00:00,  2.00it/s]"
      }
     },
     "5bc0b952458b4e8eb6ae46816182bda0": {
      "model_module": "@jupyter-widgets/base",
      "model_module_version": "1.2.0",
      "model_name": "LayoutModel",
      "state": {
       "_model_module": "@jupyter-widgets/base",
       "_model_module_version": "1.2.0",
       "_model_name": "LayoutModel",
       "_view_count": null,
       "_view_module": "@jupyter-widgets/base",
       "_view_module_version": "1.2.0",
       "_view_name": "LayoutView",
       "align_content": null,
       "align_items": null,
       "align_self": null,
       "border": null,
       "bottom": null,
       "display": null,
       "flex": null,
       "flex_flow": null,
       "grid_area": null,
       "grid_auto_columns": null,
       "grid_auto_flow": null,
       "grid_auto_rows": null,
       "grid_column": null,
       "grid_gap": null,
       "grid_row": null,
       "grid_template_areas": null,
       "grid_template_columns": null,
       "grid_template_rows": null,
       "height": null,
       "justify_content": null,
       "justify_items": null,
       "left": null,
       "margin": null,
       "max_height": null,
       "max_width": null,
       "min_height": null,
       "min_width": null,
       "object_fit": null,
       "object_position": null,
       "order": null,
       "overflow": null,
       "overflow_x": null,
       "overflow_y": null,
       "padding": null,
       "right": null,
       "top": null,
       "visibility": null,
       "width": null
      }
     },
     "948cd13b66f144c3baa70398f198521e": {
      "model_module": "@jupyter-widgets/controls",
      "model_module_version": "1.5.0",
      "model_name": "FloatProgressModel",
      "state": {
       "_dom_classes": [],
       "_model_module": "@jupyter-widgets/controls",
       "_model_module_version": "1.5.0",
       "_model_name": "FloatProgressModel",
       "_view_count": null,
       "_view_module": "@jupyter-widgets/controls",
       "_view_module_version": "1.5.0",
       "_view_name": "ProgressView",
       "bar_style": "success",
       "description": "",
       "description_tooltip": null,
       "layout": "IPY_MODEL_5bc0b952458b4e8eb6ae46816182bda0",
       "max": 2000.0,
       "min": 0.0,
       "orientation": "horizontal",
       "style": "IPY_MODEL_ce43fed679c04f23b2c72f87f5bf34da",
       "value": 2000.0
      }
     },
     "9fd267dd18a6466c96195c5c715333bf": {
      "model_module": "@jupyter-widgets/base",
      "model_module_version": "1.2.0",
      "model_name": "LayoutModel",
      "state": {
       "_model_module": "@jupyter-widgets/base",
       "_model_module_version": "1.2.0",
       "_model_name": "LayoutModel",
       "_view_count": null,
       "_view_module": "@jupyter-widgets/base",
       "_view_module_version": "1.2.0",
       "_view_name": "LayoutView",
       "align_content": null,
       "align_items": null,
       "align_self": null,
       "border": null,
       "bottom": null,
       "display": null,
       "flex": null,
       "flex_flow": null,
       "grid_area": null,
       "grid_auto_columns": null,
       "grid_auto_flow": null,
       "grid_auto_rows": null,
       "grid_column": null,
       "grid_gap": null,
       "grid_row": null,
       "grid_template_areas": null,
       "grid_template_columns": null,
       "grid_template_rows": null,
       "height": null,
       "justify_content": null,
       "justify_items": null,
       "left": null,
       "margin": null,
       "max_height": null,
       "max_width": null,
       "min_height": null,
       "min_width": null,
       "object_fit": null,
       "object_position": null,
       "order": null,
       "overflow": null,
       "overflow_x": null,
       "overflow_y": null,
       "padding": null,
       "right": null,
       "top": null,
       "visibility": null,
       "width": null
      }
     },
     "a2f47f587f17446f93ce120638f593a8": {
      "model_module": "@jupyter-widgets/controls",
      "model_module_version": "1.5.0",
      "model_name": "DescriptionStyleModel",
      "state": {
       "_model_module": "@jupyter-widgets/controls",
       "_model_module_version": "1.5.0",
       "_model_name": "DescriptionStyleModel",
       "_view_count": null,
       "_view_module": "@jupyter-widgets/base",
       "_view_module_version": "1.2.0",
       "_view_name": "StyleView",
       "description_width": ""
      }
     },
     "af0a8e22a304462a87f4f7242c8fb598": {
      "model_module": "@jupyter-widgets/controls",
      "model_module_version": "1.5.0",
      "model_name": "DescriptionStyleModel",
      "state": {
       "_model_module": "@jupyter-widgets/controls",
       "_model_module_version": "1.5.0",
       "_model_name": "DescriptionStyleModel",
       "_view_count": null,
       "_view_module": "@jupyter-widgets/base",
       "_view_module_version": "1.2.0",
       "_view_name": "StyleView",
       "description_width": ""
      }
     },
     "b5733de6cec34d93af56f74009e7d27f": {
      "model_module": "@jupyter-widgets/controls",
      "model_module_version": "1.5.0",
      "model_name": "ProgressStyleModel",
      "state": {
       "_model_module": "@jupyter-widgets/controls",
       "_model_module_version": "1.5.0",
       "_model_name": "ProgressStyleModel",
       "_view_count": null,
       "_view_module": "@jupyter-widgets/base",
       "_view_module_version": "1.2.0",
       "_view_name": "StyleView",
       "bar_color": null,
       "description_width": ""
      }
     },
     "c9a194c699574bf4b264e981f0caa8d6": {
      "model_module": "@jupyter-widgets/base",
      "model_module_version": "1.2.0",
      "model_name": "LayoutModel",
      "state": {
       "_model_module": "@jupyter-widgets/base",
       "_model_module_version": "1.2.0",
       "_model_name": "LayoutModel",
       "_view_count": null,
       "_view_module": "@jupyter-widgets/base",
       "_view_module_version": "1.2.0",
       "_view_name": "LayoutView",
       "align_content": null,
       "align_items": null,
       "align_self": null,
       "border": null,
       "bottom": null,
       "display": null,
       "flex": null,
       "flex_flow": null,
       "grid_area": null,
       "grid_auto_columns": null,
       "grid_auto_flow": null,
       "grid_auto_rows": null,
       "grid_column": null,
       "grid_gap": null,
       "grid_row": null,
       "grid_template_areas": null,
       "grid_template_columns": null,
       "grid_template_rows": null,
       "height": null,
       "justify_content": null,
       "justify_items": null,
       "left": null,
       "margin": null,
       "max_height": null,
       "max_width": null,
       "min_height": null,
       "min_width": null,
       "object_fit": null,
       "object_position": null,
       "order": null,
       "overflow": null,
       "overflow_x": null,
       "overflow_y": null,
       "padding": null,
       "right": null,
       "top": null,
       "visibility": null,
       "width": null
      }
     },
     "cb757260eb2b4c339941adc4a06f6d65": {
      "model_module": "@jupyter-widgets/controls",
      "model_module_version": "1.5.0",
      "model_name": "HBoxModel",
      "state": {
       "_dom_classes": [],
       "_model_module": "@jupyter-widgets/controls",
       "_model_module_version": "1.5.0",
       "_model_name": "HBoxModel",
       "_view_count": null,
       "_view_module": "@jupyter-widgets/controls",
       "_view_module_version": "1.5.0",
       "_view_name": "HBoxView",
       "box_style": "",
       "children": [
        "IPY_MODEL_e63ee5ccd70a4c1aa641a22ec9c78cb4",
        "IPY_MODEL_34289720656246f081aae7d629f5225f",
        "IPY_MODEL_592c8dd016944059888da1c524cc77a2"
       ],
       "layout": "IPY_MODEL_4ca0a1bd542e4592922e38368a37c3b8"
      }
     },
     "cd02791231eb46b0bd9fb7d3b23f7a78": {
      "model_module": "@jupyter-widgets/controls",
      "model_module_version": "1.5.0",
      "model_name": "DescriptionStyleModel",
      "state": {
       "_model_module": "@jupyter-widgets/controls",
       "_model_module_version": "1.5.0",
       "_model_name": "DescriptionStyleModel",
       "_view_count": null,
       "_view_module": "@jupyter-widgets/base",
       "_view_module_version": "1.2.0",
       "_view_name": "StyleView",
       "description_width": ""
      }
     },
     "ce43fed679c04f23b2c72f87f5bf34da": {
      "model_module": "@jupyter-widgets/controls",
      "model_module_version": "1.5.0",
      "model_name": "ProgressStyleModel",
      "state": {
       "_model_module": "@jupyter-widgets/controls",
       "_model_module_version": "1.5.0",
       "_model_name": "ProgressStyleModel",
       "_view_count": null,
       "_view_module": "@jupyter-widgets/base",
       "_view_module_version": "1.2.0",
       "_view_name": "StyleView",
       "bar_color": null,
       "description_width": ""
      }
     },
     "de27acbf8a86492ea34037e2cd3e2eb7": {
      "model_module": "@jupyter-widgets/base",
      "model_module_version": "1.2.0",
      "model_name": "LayoutModel",
      "state": {
       "_model_module": "@jupyter-widgets/base",
       "_model_module_version": "1.2.0",
       "_model_name": "LayoutModel",
       "_view_count": null,
       "_view_module": "@jupyter-widgets/base",
       "_view_module_version": "1.2.0",
       "_view_name": "LayoutView",
       "align_content": null,
       "align_items": null,
       "align_self": null,
       "border": null,
       "bottom": null,
       "display": null,
       "flex": null,
       "flex_flow": null,
       "grid_area": null,
       "grid_auto_columns": null,
       "grid_auto_flow": null,
       "grid_auto_rows": null,
       "grid_column": null,
       "grid_gap": null,
       "grid_row": null,
       "grid_template_areas": null,
       "grid_template_columns": null,
       "grid_template_rows": null,
       "height": null,
       "justify_content": null,
       "justify_items": null,
       "left": null,
       "margin": null,
       "max_height": null,
       "max_width": null,
       "min_height": null,
       "min_width": null,
       "object_fit": null,
       "object_position": null,
       "order": null,
       "overflow": null,
       "overflow_x": null,
       "overflow_y": null,
       "padding": null,
       "right": null,
       "top": null,
       "visibility": null,
       "width": null
      }
     },
     "df009d2f902745dd9e03ea1ac97c71a3": {
      "model_module": "@jupyter-widgets/controls",
      "model_module_version": "1.5.0",
      "model_name": "HTMLModel",
      "state": {
       "_dom_classes": [],
       "_model_module": "@jupyter-widgets/controls",
       "_model_module_version": "1.5.0",
       "_model_name": "HTMLModel",
       "_view_count": null,
       "_view_module": "@jupyter-widgets/controls",
       "_view_module_version": "1.5.0",
       "_view_name": "HTMLView",
       "description": "",
       "description_tooltip": null,
       "layout": "IPY_MODEL_9fd267dd18a6466c96195c5c715333bf",
       "placeholder": "​",
       "style": "IPY_MODEL_af0a8e22a304462a87f4f7242c8fb598",
       "value": " 2000/2000 [00:00&lt;00:00, 21745.67it/s]"
      }
     },
     "e21727378de34c1389f9fe5ab2ec18fb": {
      "model_module": "@jupyter-widgets/base",
      "model_module_version": "1.2.0",
      "model_name": "LayoutModel",
      "state": {
       "_model_module": "@jupyter-widgets/base",
       "_model_module_version": "1.2.0",
       "_model_name": "LayoutModel",
       "_view_count": null,
       "_view_module": "@jupyter-widgets/base",
       "_view_module_version": "1.2.0",
       "_view_name": "LayoutView",
       "align_content": null,
       "align_items": null,
       "align_self": null,
       "border": null,
       "bottom": null,
       "display": null,
       "flex": null,
       "flex_flow": null,
       "grid_area": null,
       "grid_auto_columns": null,
       "grid_auto_flow": null,
       "grid_auto_rows": null,
       "grid_column": null,
       "grid_gap": null,
       "grid_row": null,
       "grid_template_areas": null,
       "grid_template_columns": null,
       "grid_template_rows": null,
       "height": null,
       "justify_content": null,
       "justify_items": null,
       "left": null,
       "margin": null,
       "max_height": null,
       "max_width": null,
       "min_height": null,
       "min_width": null,
       "object_fit": null,
       "object_position": null,
       "order": null,
       "overflow": null,
       "overflow_x": null,
       "overflow_y": null,
       "padding": null,
       "right": null,
       "top": null,
       "visibility": null,
       "width": null
      }
     },
     "e5b53220363245559111b64a4b238a79": {
      "model_module": "@jupyter-widgets/base",
      "model_module_version": "1.2.0",
      "model_name": "LayoutModel",
      "state": {
       "_model_module": "@jupyter-widgets/base",
       "_model_module_version": "1.2.0",
       "_model_name": "LayoutModel",
       "_view_count": null,
       "_view_module": "@jupyter-widgets/base",
       "_view_module_version": "1.2.0",
       "_view_name": "LayoutView",
       "align_content": null,
       "align_items": null,
       "align_self": null,
       "border": null,
       "bottom": null,
       "display": null,
       "flex": null,
       "flex_flow": null,
       "grid_area": null,
       "grid_auto_columns": null,
       "grid_auto_flow": null,
       "grid_auto_rows": null,
       "grid_column": null,
       "grid_gap": null,
       "grid_row": null,
       "grid_template_areas": null,
       "grid_template_columns": null,
       "grid_template_rows": null,
       "height": null,
       "justify_content": null,
       "justify_items": null,
       "left": null,
       "margin": null,
       "max_height": null,
       "max_width": null,
       "min_height": null,
       "min_width": null,
       "object_fit": null,
       "object_position": null,
       "order": null,
       "overflow": null,
       "overflow_x": null,
       "overflow_y": null,
       "padding": null,
       "right": null,
       "top": null,
       "visibility": null,
       "width": null
      }
     },
     "e63ee5ccd70a4c1aa641a22ec9c78cb4": {
      "model_module": "@jupyter-widgets/controls",
      "model_module_version": "1.5.0",
      "model_name": "HTMLModel",
      "state": {
       "_dom_classes": [],
       "_model_module": "@jupyter-widgets/controls",
       "_model_module_version": "1.5.0",
       "_model_name": "HTMLModel",
       "_view_count": null,
       "_view_module": "@jupyter-widgets/controls",
       "_view_module_version": "1.5.0",
       "_view_name": "HTMLView",
       "description": "",
       "description_tooltip": null,
       "layout": "IPY_MODEL_3d9c1faa63e54346befd7cbaad029463",
       "placeholder": "​",
       "style": "IPY_MODEL_4e583fd63ca44cf2a5a991de910d1871",
       "value": "100%"
      }
     }
    },
    "version_major": 2,
    "version_minor": 0
   }
  }
 },
 "nbformat": 4,
 "nbformat_minor": 5
}
